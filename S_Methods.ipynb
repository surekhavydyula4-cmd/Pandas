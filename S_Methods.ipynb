{
  "nbformat": 4,
  "nbformat_minor": 0,
  "metadata": {
    "colab": {
      "provenance": [],
      "authorship_tag": "ABX9TyOFcYsDgfIdLZ98omTC02HE",
      "include_colab_link": true
    },
    "kernelspec": {
      "name": "python3",
      "display_name": "Python 3"
    },
    "language_info": {
      "name": "python"
    }
  },
  "cells": [
    {
      "cell_type": "markdown",
      "metadata": {
        "id": "view-in-github",
        "colab_type": "text"
      },
      "source": [
        "<a href=\"https://colab.research.google.com/github/surekhavydyula4-cmd/Pandas/blob/main/S_Methods.ipynb\" target=\"_parent\"><img src=\"https://colab.research.google.com/assets/colab-badge.svg\" alt=\"Open In Colab\"/></a>"
      ]
    },
    {
      "cell_type": "code",
      "execution_count": null,
      "metadata": {
        "id": "5YGZWuSEEn85",
        "colab": {
          "base_uri": "https://localhost:8080/"
        },
        "outputId": "557514eb-8549-40a1-82f6-ba33e966302b"
      },
      "outputs": [
        {
          "output_type": "stream",
          "name": "stdout",
          "text": [
            "10      Sai\n",
            "20     Suri\n",
            "30    Kanna\n",
            "40    Kittu\n",
            "dtype: object\n"
          ]
        }
      ],
      "source": [
        "#Series creation\n",
        "import pandas as pd\n",
        "a=[\"Sai\",\"Suri\",\"Kanna\",\"Kittu\"]\n",
        "b=[10,20,30,40]\n",
        "s=pd.Series(a,index=b)\n",
        "print(s)\n"
      ]
    },
    {
      "cell_type": "code",
      "source": [
        "#head()\n",
        "import pandas as pd\n",
        "a=[\"Sai\",\"Suri\",\"Kanna\",\"Kittu\",\"Krish\",\"Lalli\",\"Rithu\"]\n",
        "b=[10,20,30,40,50,60,70]\n",
        "s=pd.Series(a,index=b)\n",
        "print(s)\n",
        "print()\n",
        "print(s.head())\n"
      ],
      "metadata": {
        "colab": {
          "base_uri": "https://localhost:8080/"
        },
        "id": "LSKr6VSkV9ID",
        "outputId": "77d72d36-1b85-4dcc-9b4e-a453433e0c1d"
      },
      "execution_count": null,
      "outputs": [
        {
          "output_type": "stream",
          "name": "stdout",
          "text": [
            "10      Sai\n",
            "20     Suri\n",
            "30    Kanna\n",
            "40    Kittu\n",
            "50    Krish\n",
            "60    Lalli\n",
            "70    Rithu\n",
            "dtype: object\n",
            "\n",
            "10      Sai\n",
            "20     Suri\n",
            "30    Kanna\n",
            "40    Kittu\n",
            "50    Krish\n",
            "dtype: object\n"
          ]
        }
      ]
    },
    {
      "cell_type": "code",
      "source": [
        "#head() with specific number fo rows\n",
        "import pandas as pd\n",
        "a=[\"Sai\",\"Suri\",\"Kanna\",\"Kittu\",\"Krish\",\"Lalli\",\"Rithu\"]\n",
        "b=[10,20,30,40,50,60,70]\n",
        "s=pd.Series(a,index=b)\n",
        "print(s)\n",
        "print()\n",
        "print(s.head())\n",
        "print()\n",
        "print(s.head(2))"
      ],
      "metadata": {
        "colab": {
          "base_uri": "https://localhost:8080/"
        },
        "id": "k2nvpogtWZLF",
        "outputId": "9070c21e-a8fa-40ae-df7f-a1c173e1bb9b"
      },
      "execution_count": null,
      "outputs": [
        {
          "output_type": "stream",
          "name": "stdout",
          "text": [
            "10      Sai\n",
            "20     Suri\n",
            "30    Kanna\n",
            "40    Kittu\n",
            "50    Krish\n",
            "60    Lalli\n",
            "70    Rithu\n",
            "dtype: object\n",
            "\n",
            "10      Sai\n",
            "20     Suri\n",
            "30    Kanna\n",
            "40    Kittu\n",
            "50    Krish\n",
            "dtype: object\n",
            "\n",
            "10     Sai\n",
            "20    Suri\n",
            "dtype: object\n"
          ]
        }
      ]
    },
    {
      "cell_type": "code",
      "source": [
        "#tail()\n",
        "import pandas as pd\n",
        "a=[\"Sai\",\"Suri\",\"Kanna\",\"Kittu\",\"Krish\",\"Lalli\",\"Rithu\"]\n",
        "b=[10,20,30,40,50,60,70]\n",
        "s=pd.Series(a,index=b)\n",
        "print(s)\n",
        "print()\n",
        "print(s.tail())"
      ],
      "metadata": {
        "colab": {
          "base_uri": "https://localhost:8080/"
        },
        "id": "98mC5hibWfyO",
        "outputId": "d31630dd-9ad8-407c-f32f-05692f26933a"
      },
      "execution_count": null,
      "outputs": [
        {
          "output_type": "stream",
          "name": "stdout",
          "text": [
            "10      Sai\n",
            "20     Suri\n",
            "30    Kanna\n",
            "40    Kittu\n",
            "50    Krish\n",
            "60    Lalli\n",
            "70    Rithu\n",
            "dtype: object\n",
            "\n",
            "30    Kanna\n",
            "40    Kittu\n",
            "50    Krish\n",
            "60    Lalli\n",
            "70    Rithu\n",
            "dtype: object\n"
          ]
        }
      ]
    },
    {
      "cell_type": "code",
      "source": [
        "#tail() with specific number fo rows\n",
        "import pandas as pd\n",
        "a=[\"Sai\",\"Suri\",\"Kanna\",\"Kittu\",\"Krish\",\"Lalli\",\"Rithu\"]\n",
        "b=[10,20,30,40,50,60,70]\n",
        "s=pd.Series(a,index=b)\n",
        "print(s)\n",
        "print()\n",
        "print(s.tail())\n",
        "print()\n",
        "print(s.tail(2))"
      ],
      "metadata": {
        "colab": {
          "base_uri": "https://localhost:8080/"
        },
        "id": "aSyCEeLHWjBj",
        "outputId": "76ac74bd-3d7b-4707-cedc-4af41b8195ce"
      },
      "execution_count": null,
      "outputs": [
        {
          "output_type": "stream",
          "name": "stdout",
          "text": [
            "10      Sai\n",
            "20     Suri\n",
            "30    Kanna\n",
            "40    Kittu\n",
            "50    Krish\n",
            "60    Lalli\n",
            "70    Rithu\n",
            "dtype: object\n",
            "\n",
            "30    Kanna\n",
            "40    Kittu\n",
            "50    Krish\n",
            "60    Lalli\n",
            "70    Rithu\n",
            "dtype: object\n",
            "\n",
            "60    Lalli\n",
            "70    Rithu\n",
            "dtype: object\n"
          ]
        }
      ]
    },
    {
      "cell_type": "code",
      "source": [
        "#describe()\n",
        "import pandas as pd\n",
        "a=[\"Sai\",\"Suri\",\"Kanna\",\"Kittu\",\"Krish\",\"Lalli\",\"Rithu\"]\n",
        "b=[10,20,30,40,50,60,70]\n",
        "s=pd.Series(a,index=b)\n",
        "print(s)\n",
        "print()\n",
        "print(s.describe())"
      ],
      "metadata": {
        "colab": {
          "base_uri": "https://localhost:8080/"
        },
        "id": "9bePB5KcWo8M",
        "outputId": "994de250-217c-4a07-e54e-b6387d0d12e3"
      },
      "execution_count": null,
      "outputs": [
        {
          "output_type": "stream",
          "name": "stdout",
          "text": [
            "10      Sai\n",
            "20     Suri\n",
            "30    Kanna\n",
            "40    Kittu\n",
            "50    Krish\n",
            "60    Lalli\n",
            "70    Rithu\n",
            "dtype: object\n",
            "\n",
            "count       7\n",
            "unique      7\n",
            "top       Sai\n",
            "freq        1\n",
            "dtype: object\n"
          ]
        }
      ]
    },
    {
      "cell_type": "code",
      "source": [
        "#count()\n",
        "import pandas as pd\n",
        "a=[\"Sai\",\"Suri\",\"Kanna\",\"Kittu\",\"Krish\",\"Lalli\",\"Rithu\"]\n",
        "b=[10,20,30,40,50,60,70]\n",
        "s=pd.Series(a,index=b)\n",
        "print(s)\n",
        "print()\n",
        "print(s.count())"
      ],
      "metadata": {
        "id": "4HEaT_ysWuLd",
        "colab": {
          "base_uri": "https://localhost:8080/"
        },
        "outputId": "bf82f7b4-c4d0-408a-a80f-9d5fca85cd73"
      },
      "execution_count": null,
      "outputs": [
        {
          "output_type": "stream",
          "name": "stdout",
          "text": [
            "10      Sai\n",
            "20     Suri\n",
            "30    Kanna\n",
            "40    Kittu\n",
            "50    Krish\n",
            "60    Lalli\n",
            "70    Rithu\n",
            "dtype: object\n",
            "\n",
            "7\n"
          ]
        }
      ]
    },
    {
      "cell_type": "code",
      "source": [
        "#sum()\n",
        "import pandas as pd\n",
        "a=[\"Sai\",\"Suri\",\"Kanna\",\"Kittu\",\"Krish\",\"Lalli\",\"Rithu\"]\n",
        "b=[10,20,30,40,50,60,70]\n",
        "s=pd.Series(b,index=a)\n",
        "print(s)\n",
        "print()\n",
        "print(s.sum())"
      ],
      "metadata": {
        "colab": {
          "base_uri": "https://localhost:8080/"
        },
        "id": "39VQkWgwYhGe",
        "outputId": "bb82f478-2e36-4de2-805d-1937c05c5934"
      },
      "execution_count": null,
      "outputs": [
        {
          "output_type": "stream",
          "name": "stdout",
          "text": [
            "Sai      10\n",
            "Suri     20\n",
            "Kanna    30\n",
            "Kittu    40\n",
            "Krish    50\n",
            "Lalli    60\n",
            "Rithu    70\n",
            "dtype: int64\n",
            "\n",
            "280\n"
          ]
        }
      ]
    },
    {
      "cell_type": "code",
      "source": [
        "#mean()\n",
        "import pandas as pd\n",
        "a=[\"Sai\",\"Suri\",\"Kanna\",\"Kittu\",\"Krish\",\"Lalli\",\"Rithu\"]\n",
        "b=[10,20,30,40,50,60,70]\n",
        "s=pd.Series(b,index=a)\n",
        "print(s)\n",
        "print()\n",
        "print(s.mean())"
      ],
      "metadata": {
        "colab": {
          "base_uri": "https://localhost:8080/"
        },
        "id": "z2eo_gzcYscW",
        "outputId": "3e47be10-47c7-4614-9262-d78ed01dda5e"
      },
      "execution_count": null,
      "outputs": [
        {
          "output_type": "stream",
          "name": "stdout",
          "text": [
            "Sai      10\n",
            "Suri     20\n",
            "Kanna    30\n",
            "Kittu    40\n",
            "Krish    50\n",
            "Lalli    60\n",
            "Rithu    70\n",
            "dtype: int64\n",
            "\n",
            "40.0\n"
          ]
        }
      ]
    },
    {
      "cell_type": "code",
      "source": [
        "#unique()\n",
        "import pandas as pd\n",
        "a=[\"Sai\",\"Suri\",\"Kanna\",\"Kittu\",\"Krish\",\"Lalli\",\"Rithu\"]\n",
        "b=[10,20,30,40,50,60,70]\n",
        "s=pd.Series(b,index=a)\n",
        "print(s)\n",
        "print()\n",
        "print(s.unique())"
      ],
      "metadata": {
        "colab": {
          "base_uri": "https://localhost:8080/"
        },
        "id": "Nps6twwmY1bB",
        "outputId": "97d1df1e-1110-4e83-cb92-1388074e998c"
      },
      "execution_count": null,
      "outputs": [
        {
          "output_type": "stream",
          "name": "stdout",
          "text": [
            "Sai      10\n",
            "Suri     20\n",
            "Kanna    30\n",
            "Kittu    40\n",
            "Krish    50\n",
            "Lalli    60\n",
            "Rithu    70\n",
            "dtype: int64\n",
            "\n",
            "[10 20 30 40 50 60 70]\n"
          ]
        }
      ]
    },
    {
      "cell_type": "code",
      "source": [
        "#nunique()\n",
        "import pandas as pd\n",
        "a=[\"Sai\",\"Suri\",\"Kanna\",\"Kittu\",\"Krish\",\"Lalli\",\"Rithu\"]\n",
        "b=[10,20,30,40,50,60,70]\n",
        "s=pd.Series(b,index=a)\n",
        "print(s)\n",
        "print()\n",
        "print(s.nunique())"
      ],
      "metadata": {
        "colab": {
          "base_uri": "https://localhost:8080/"
        },
        "id": "i-YD3W_kY7om",
        "outputId": "e4436186-d65a-4269-9426-7ce31d46e523"
      },
      "execution_count": null,
      "outputs": [
        {
          "output_type": "stream",
          "name": "stdout",
          "text": [
            "Sai      10\n",
            "Suri     20\n",
            "Kanna    30\n",
            "Kittu    40\n",
            "Krish    50\n",
            "Lalli    60\n",
            "Rithu    70\n",
            "dtype: int64\n",
            "\n",
            "7\n"
          ]
        }
      ]
    }
  ]
}