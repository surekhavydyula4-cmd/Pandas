{
  "nbformat": 4,
  "nbformat_minor": 0,
  "metadata": {
    "colab": {
      "provenance": [],
      "authorship_tag": "ABX9TyPgFvwnqnnfAw80yNamzRtq",
      "include_colab_link": true
    },
    "kernelspec": {
      "name": "python3",
      "display_name": "Python 3"
    },
    "language_info": {
      "name": "python"
    }
  },
  "cells": [
    {
      "cell_type": "markdown",
      "metadata": {
        "id": "view-in-github",
        "colab_type": "text"
      },
      "source": [
        "<a href=\"https://colab.research.google.com/github/surekhavydyula4-cmd/Pandas/blob/main/DF_Methods.ipynb\" target=\"_parent\"><img src=\"https://colab.research.google.com/assets/colab-badge.svg\" alt=\"Open In Colab\"/></a>"
      ]
    },
    {
      "cell_type": "code",
      "execution_count": null,
      "metadata": {
        "colab": {
          "base_uri": "https://localhost:8080/",
          "height": 73
        },
        "id": "5GPZpW3rUFKC",
        "outputId": "3f462b00-cf19-4c2f-adba-46f188829a44"
      },
      "outputs": [
        {
          "output_type": "display_data",
          "data": {
            "text/plain": [
              "<IPython.core.display.HTML object>"
            ],
            "text/html": [
              "\n",
              "     <input type=\"file\" id=\"files-5d314f73-88d7-4870-8753-d9084192d3d6\" name=\"files[]\" multiple disabled\n",
              "        style=\"border:none\" />\n",
              "     <output id=\"result-5d314f73-88d7-4870-8753-d9084192d3d6\">\n",
              "      Upload widget is only available when the cell has been executed in the\n",
              "      current browser session. Please rerun this cell to enable.\n",
              "      </output>\n",
              "      <script>// Copyright 2017 Google LLC\n",
              "//\n",
              "// Licensed under the Apache License, Version 2.0 (the \"License\");\n",
              "// you may not use this file except in compliance with the License.\n",
              "// You may obtain a copy of the License at\n",
              "//\n",
              "//      http://www.apache.org/licenses/LICENSE-2.0\n",
              "//\n",
              "// Unless required by applicable law or agreed to in writing, software\n",
              "// distributed under the License is distributed on an \"AS IS\" BASIS,\n",
              "// WITHOUT WARRANTIES OR CONDITIONS OF ANY KIND, either express or implied.\n",
              "// See the License for the specific language governing permissions and\n",
              "// limitations under the License.\n",
              "\n",
              "/**\n",
              " * @fileoverview Helpers for google.colab Python module.\n",
              " */\n",
              "(function(scope) {\n",
              "function span(text, styleAttributes = {}) {\n",
              "  const element = document.createElement('span');\n",
              "  element.textContent = text;\n",
              "  for (const key of Object.keys(styleAttributes)) {\n",
              "    element.style[key] = styleAttributes[key];\n",
              "  }\n",
              "  return element;\n",
              "}\n",
              "\n",
              "// Max number of bytes which will be uploaded at a time.\n",
              "const MAX_PAYLOAD_SIZE = 100 * 1024;\n",
              "\n",
              "function _uploadFiles(inputId, outputId) {\n",
              "  const steps = uploadFilesStep(inputId, outputId);\n",
              "  const outputElement = document.getElementById(outputId);\n",
              "  // Cache steps on the outputElement to make it available for the next call\n",
              "  // to uploadFilesContinue from Python.\n",
              "  outputElement.steps = steps;\n",
              "\n",
              "  return _uploadFilesContinue(outputId);\n",
              "}\n",
              "\n",
              "// This is roughly an async generator (not supported in the browser yet),\n",
              "// where there are multiple asynchronous steps and the Python side is going\n",
              "// to poll for completion of each step.\n",
              "// This uses a Promise to block the python side on completion of each step,\n",
              "// then passes the result of the previous step as the input to the next step.\n",
              "function _uploadFilesContinue(outputId) {\n",
              "  const outputElement = document.getElementById(outputId);\n",
              "  const steps = outputElement.steps;\n",
              "\n",
              "  const next = steps.next(outputElement.lastPromiseValue);\n",
              "  return Promise.resolve(next.value.promise).then((value) => {\n",
              "    // Cache the last promise value to make it available to the next\n",
              "    // step of the generator.\n",
              "    outputElement.lastPromiseValue = value;\n",
              "    return next.value.response;\n",
              "  });\n",
              "}\n",
              "\n",
              "/**\n",
              " * Generator function which is called between each async step of the upload\n",
              " * process.\n",
              " * @param {string} inputId Element ID of the input file picker element.\n",
              " * @param {string} outputId Element ID of the output display.\n",
              " * @return {!Iterable<!Object>} Iterable of next steps.\n",
              " */\n",
              "function* uploadFilesStep(inputId, outputId) {\n",
              "  const inputElement = document.getElementById(inputId);\n",
              "  inputElement.disabled = false;\n",
              "\n",
              "  const outputElement = document.getElementById(outputId);\n",
              "  outputElement.innerHTML = '';\n",
              "\n",
              "  const pickedPromise = new Promise((resolve) => {\n",
              "    inputElement.addEventListener('change', (e) => {\n",
              "      resolve(e.target.files);\n",
              "    });\n",
              "  });\n",
              "\n",
              "  const cancel = document.createElement('button');\n",
              "  inputElement.parentElement.appendChild(cancel);\n",
              "  cancel.textContent = 'Cancel upload';\n",
              "  const cancelPromise = new Promise((resolve) => {\n",
              "    cancel.onclick = () => {\n",
              "      resolve(null);\n",
              "    };\n",
              "  });\n",
              "\n",
              "  // Wait for the user to pick the files.\n",
              "  const files = yield {\n",
              "    promise: Promise.race([pickedPromise, cancelPromise]),\n",
              "    response: {\n",
              "      action: 'starting',\n",
              "    }\n",
              "  };\n",
              "\n",
              "  cancel.remove();\n",
              "\n",
              "  // Disable the input element since further picks are not allowed.\n",
              "  inputElement.disabled = true;\n",
              "\n",
              "  if (!files) {\n",
              "    return {\n",
              "      response: {\n",
              "        action: 'complete',\n",
              "      }\n",
              "    };\n",
              "  }\n",
              "\n",
              "  for (const file of files) {\n",
              "    const li = document.createElement('li');\n",
              "    li.append(span(file.name, {fontWeight: 'bold'}));\n",
              "    li.append(span(\n",
              "        `(${file.type || 'n/a'}) - ${file.size} bytes, ` +\n",
              "        `last modified: ${\n",
              "            file.lastModifiedDate ? file.lastModifiedDate.toLocaleDateString() :\n",
              "                                    'n/a'} - `));\n",
              "    const percent = span('0% done');\n",
              "    li.appendChild(percent);\n",
              "\n",
              "    outputElement.appendChild(li);\n",
              "\n",
              "    const fileDataPromise = new Promise((resolve) => {\n",
              "      const reader = new FileReader();\n",
              "      reader.onload = (e) => {\n",
              "        resolve(e.target.result);\n",
              "      };\n",
              "      reader.readAsArrayBuffer(file);\n",
              "    });\n",
              "    // Wait for the data to be ready.\n",
              "    let fileData = yield {\n",
              "      promise: fileDataPromise,\n",
              "      response: {\n",
              "        action: 'continue',\n",
              "      }\n",
              "    };\n",
              "\n",
              "    // Use a chunked sending to avoid message size limits. See b/62115660.\n",
              "    let position = 0;\n",
              "    do {\n",
              "      const length = Math.min(fileData.byteLength - position, MAX_PAYLOAD_SIZE);\n",
              "      const chunk = new Uint8Array(fileData, position, length);\n",
              "      position += length;\n",
              "\n",
              "      const base64 = btoa(String.fromCharCode.apply(null, chunk));\n",
              "      yield {\n",
              "        response: {\n",
              "          action: 'append',\n",
              "          file: file.name,\n",
              "          data: base64,\n",
              "        },\n",
              "      };\n",
              "\n",
              "      let percentDone = fileData.byteLength === 0 ?\n",
              "          100 :\n",
              "          Math.round((position / fileData.byteLength) * 100);\n",
              "      percent.textContent = `${percentDone}% done`;\n",
              "\n",
              "    } while (position < fileData.byteLength);\n",
              "  }\n",
              "\n",
              "  // All done.\n",
              "  yield {\n",
              "    response: {\n",
              "      action: 'complete',\n",
              "    }\n",
              "  };\n",
              "}\n",
              "\n",
              "scope.google = scope.google || {};\n",
              "scope.google.colab = scope.google.colab || {};\n",
              "scope.google.colab._files = {\n",
              "  _uploadFiles,\n",
              "  _uploadFilesContinue,\n",
              "};\n",
              "})(self);\n",
              "</script> "
            ]
          },
          "metadata": {}
        },
        {
          "output_type": "stream",
          "name": "stdout",
          "text": [
            "Saving sales1.csv to sales1.csv\n"
          ]
        }
      ],
      "source": [
        "#files uploading\n",
        "from google.colab import files\n",
        "uploaded=files.upload()"
      ]
    },
    {
      "cell_type": "code",
      "source": [
        "#dataframe creation\n",
        "import pandas as pd\n",
        "df=pd.read_csv(\"sales1.csv\")\n",
        "print(df)"
      ],
      "metadata": {
        "id": "ndajCO_IUlIc",
        "colab": {
          "base_uri": "https://localhost:8080/"
        },
        "outputId": "b7600f83-ef66-48b8-f19c-ef3313c09a78"
      },
      "execution_count": null,
      "outputs": [
        {
          "output_type": "stream",
          "name": "stdout",
          "text": [
            "     Order ID Customer Name                 Product  Quantity\n",
            "0      166837         Veeru  34in Ultrawide Monitor         2\n",
            "1      166838         Tarun             Samsung m10         3\n",
            "2      166839         Kedar            20in Monitor         1\n",
            "3      166840       Lavanya               iPhone 11         3\n",
            "4      166841          Venu      Macbook Pro Laptop         2\n",
            "..        ...           ...                     ...       ...\n",
            "595    167403        Balaji      Macbook Pro Laptop         1\n",
            "596    167404       Lavanya         ThinkPad Laptop         1\n",
            "597    167405          Venu           Flatscreen TV         1\n",
            "598    167406        Siddhu             Samsung m20         2\n",
            "599    167407         Tarun      LG Washing Machine         1\n",
            "\n",
            "[600 rows x 4 columns]\n"
          ]
        }
      ]
    },
    {
      "cell_type": "code",
      "source": [
        "#head()\n",
        "import pandas as pd\n",
        "df=pd.read_csv(\"sales1.csv\")\n",
        "print(df)\n",
        "print()\n",
        "print(df.head())"
      ],
      "metadata": {
        "id": "SZocCYOMUr0n",
        "colab": {
          "base_uri": "https://localhost:8080/"
        },
        "outputId": "dad14105-bf22-4563-90d8-f3b1afcd5f4e"
      },
      "execution_count": null,
      "outputs": [
        {
          "output_type": "stream",
          "name": "stdout",
          "text": [
            "     Order ID Customer Name                 Product  Quantity\n",
            "0      166837         Veeru  34in Ultrawide Monitor         2\n",
            "1      166838         Tarun             Samsung m10         3\n",
            "2      166839         Kedar            20in Monitor         1\n",
            "3      166840       Lavanya               iPhone 11         3\n",
            "4      166841          Venu      Macbook Pro Laptop         2\n",
            "..        ...           ...                     ...       ...\n",
            "595    167403        Balaji      Macbook Pro Laptop         1\n",
            "596    167404       Lavanya         ThinkPad Laptop         1\n",
            "597    167405          Venu           Flatscreen TV         1\n",
            "598    167406        Siddhu             Samsung m20         2\n",
            "599    167407         Tarun      LG Washing Machine         1\n",
            "\n",
            "[600 rows x 4 columns]\n",
            "\n",
            "   Order ID Customer Name                 Product  Quantity\n",
            "0    166837         Veeru  34in Ultrawide Monitor         2\n",
            "1    166838         Tarun             Samsung m10         3\n",
            "2    166839         Kedar            20in Monitor         1\n",
            "3    166840       Lavanya               iPhone 11         3\n",
            "4    166841          Venu      Macbook Pro Laptop         2\n"
          ]
        }
      ]
    },
    {
      "cell_type": "code",
      "source": [
        "#tail()\n",
        "import pandas as pd\n",
        "df=pd.read_csv(\"sales1.csv\")\n",
        "print(df)\n",
        "print()\n",
        "print(df.tail())"
      ],
      "metadata": {
        "id": "PT5ar4u0UzWS",
        "colab": {
          "base_uri": "https://localhost:8080/"
        },
        "outputId": "0f8601dc-7971-45b0-955d-74c36f814dc3"
      },
      "execution_count": null,
      "outputs": [
        {
          "output_type": "stream",
          "name": "stdout",
          "text": [
            "     Order ID Customer Name                 Product  Quantity\n",
            "0      166837         Veeru  34in Ultrawide Monitor         2\n",
            "1      166838         Tarun             Samsung m10         3\n",
            "2      166839         Kedar            20in Monitor         1\n",
            "3      166840       Lavanya               iPhone 11         3\n",
            "4      166841          Venu      Macbook Pro Laptop         2\n",
            "..        ...           ...                     ...       ...\n",
            "595    167403        Balaji      Macbook Pro Laptop         1\n",
            "596    167404       Lavanya         ThinkPad Laptop         1\n",
            "597    167405          Venu           Flatscreen TV         1\n",
            "598    167406        Siddhu             Samsung m20         2\n",
            "599    167407         Tarun      LG Washing Machine         1\n",
            "\n",
            "[600 rows x 4 columns]\n",
            "\n",
            "     Order ID Customer Name             Product  Quantity\n",
            "595    167403        Balaji  Macbook Pro Laptop         1\n",
            "596    167404       Lavanya     ThinkPad Laptop         1\n",
            "597    167405          Venu       Flatscreen TV         1\n",
            "598    167406        Siddhu         Samsung m20         2\n",
            "599    167407         Tarun  LG Washing Machine         1\n"
          ]
        }
      ]
    },
    {
      "cell_type": "code",
      "source": [
        "#info()\n",
        "import pandas as pd\n",
        "df=pd.read_csv(\"sales1.csv\")\n",
        "print(df)\n",
        "print()\n",
        "print(df.info())"
      ],
      "metadata": {
        "id": "uaFndAjgU4fH",
        "colab": {
          "base_uri": "https://localhost:8080/"
        },
        "outputId": "d10d5a30-6d0b-4069-b9c0-7b08a4b6b522"
      },
      "execution_count": null,
      "outputs": [
        {
          "output_type": "stream",
          "name": "stdout",
          "text": [
            "     Order ID Customer Name                 Product  Quantity\n",
            "0      166837         Veeru  34in Ultrawide Monitor         2\n",
            "1      166838         Tarun             Samsung m10         3\n",
            "2      166839         Kedar            20in Monitor         1\n",
            "3      166840       Lavanya               iPhone 11         3\n",
            "4      166841          Venu      Macbook Pro Laptop         2\n",
            "..        ...           ...                     ...       ...\n",
            "595    167403        Balaji      Macbook Pro Laptop         1\n",
            "596    167404       Lavanya         ThinkPad Laptop         1\n",
            "597    167405          Venu           Flatscreen TV         1\n",
            "598    167406        Siddhu             Samsung m20         2\n",
            "599    167407         Tarun      LG Washing Machine         1\n",
            "\n",
            "[600 rows x 4 columns]\n",
            "\n",
            "<class 'pandas.core.frame.DataFrame'>\n",
            "RangeIndex: 600 entries, 0 to 599\n",
            "Data columns (total 4 columns):\n",
            " #   Column         Non-Null Count  Dtype \n",
            "---  ------         --------------  ----- \n",
            " 0   Order ID       600 non-null    int64 \n",
            " 1   Customer Name  600 non-null    object\n",
            " 2   Product        600 non-null    object\n",
            " 3   Quantity       600 non-null    int64 \n",
            "dtypes: int64(2), object(2)\n",
            "memory usage: 18.9+ KB\n",
            "None\n"
          ]
        }
      ]
    },
    {
      "cell_type": "code",
      "source": [
        "#describe()\n",
        "import pandas as pd\n",
        "df=pd.read_csv(\"sales1.csv\")\n",
        "print(df)\n",
        "print()\n",
        "print(df.describe())"
      ],
      "metadata": {
        "id": "CfX3w0G7U-2b",
        "colab": {
          "base_uri": "https://localhost:8080/"
        },
        "outputId": "34a40256-ced6-45de-a2a7-99aad0965d71"
      },
      "execution_count": null,
      "outputs": [
        {
          "output_type": "stream",
          "name": "stdout",
          "text": [
            "     Order ID Customer Name                 Product  Quantity\n",
            "0      166837         Veeru  34in Ultrawide Monitor         2\n",
            "1      166838         Tarun             Samsung m10         3\n",
            "2      166839         Kedar            20in Monitor         1\n",
            "3      166840       Lavanya               iPhone 11         3\n",
            "4      166841          Venu      Macbook Pro Laptop         2\n",
            "..        ...           ...                     ...       ...\n",
            "595    167403        Balaji      Macbook Pro Laptop         1\n",
            "596    167404       Lavanya         ThinkPad Laptop         1\n",
            "597    167405          Venu           Flatscreen TV         1\n",
            "598    167406        Siddhu             Samsung m20         2\n",
            "599    167407         Tarun      LG Washing Machine         1\n",
            "\n",
            "[600 rows x 4 columns]\n",
            "\n",
            "            Order ID    Quantity\n",
            "count     600.000000  600.000000\n",
            "mean   167122.751667    1.481667\n",
            "std       164.948568    0.683454\n",
            "min    166837.000000    1.000000\n",
            "25%    166980.750000    1.000000\n",
            "50%    167120.500000    1.000000\n",
            "75%    167266.250000    2.000000\n",
            "max    167409.000000    3.000000\n"
          ]
        }
      ]
    },
    {
      "cell_type": "code",
      "source": [
        "#count()\n",
        "import pandas as pd\n",
        "df=pd.read_csv(\"sales1.csv\")\n",
        "print(df)\n",
        "print()\n",
        "print(df.count())"
      ],
      "metadata": {
        "id": "LKWlI-0ZVCNc",
        "colab": {
          "base_uri": "https://localhost:8080/"
        },
        "outputId": "72dd1167-18ab-4bbc-82b4-c6d340358f42"
      },
      "execution_count": null,
      "outputs": [
        {
          "output_type": "stream",
          "name": "stdout",
          "text": [
            "     Order ID Customer Name                 Product  Quantity\n",
            "0      166837         Veeru  34in Ultrawide Monitor         2\n",
            "1      166838         Tarun             Samsung m10         3\n",
            "2      166839         Kedar            20in Monitor         1\n",
            "3      166840       Lavanya               iPhone 11         3\n",
            "4      166841          Venu      Macbook Pro Laptop         2\n",
            "..        ...           ...                     ...       ...\n",
            "595    167403        Balaji      Macbook Pro Laptop         1\n",
            "596    167404       Lavanya         ThinkPad Laptop         1\n",
            "597    167405          Venu           Flatscreen TV         1\n",
            "598    167406        Siddhu             Samsung m20         2\n",
            "599    167407         Tarun      LG Washing Machine         1\n",
            "\n",
            "[600 rows x 4 columns]\n",
            "\n",
            "Order ID         600\n",
            "Customer Name    600\n",
            "Product          600\n",
            "Quantity         600\n",
            "dtype: int64\n"
          ]
        }
      ]
    },
    {
      "cell_type": "code",
      "source": [
        "#nunique()\n",
        "import pandas as pd\n",
        "df=pd.read_csv(\"sales1.csv\")\n",
        "print(df)\n",
        "print()\n",
        "print(df.nunique())"
      ],
      "metadata": {
        "colab": {
          "base_uri": "https://localhost:8080/"
        },
        "id": "Iri0qhAtc7bu",
        "outputId": "9468b10e-bf0a-4d2d-83c0-89b6f592274e"
      },
      "execution_count": null,
      "outputs": [
        {
          "output_type": "stream",
          "name": "stdout",
          "text": [
            "     Order ID Customer Name                 Product  Quantity\n",
            "0      166837         Veeru  34in Ultrawide Monitor         2\n",
            "1      166838         Tarun             Samsung m10         3\n",
            "2      166839         Kedar            20in Monitor         1\n",
            "3      166840       Lavanya               iPhone 11         3\n",
            "4      166841          Venu      Macbook Pro Laptop         2\n",
            "..        ...           ...                     ...       ...\n",
            "595    167403        Balaji      Macbook Pro Laptop         1\n",
            "596    167404       Lavanya         ThinkPad Laptop         1\n",
            "597    167405          Venu           Flatscreen TV         1\n",
            "598    167406        Siddhu             Samsung m20         2\n",
            "599    167407         Tarun      LG Washing Machine         1\n",
            "\n",
            "[600 rows x 4 columns]\n",
            "\n",
            "Order ID         573\n",
            "Customer Name     23\n",
            "Product           21\n",
            "Quantity           3\n",
            "dtype: int64\n"
          ]
        }
      ]
    },
    {
      "cell_type": "code",
      "source": [
        "#access single column\n",
        "import pandas as pd\n",
        "df=pd.read_csv(\"sales1.csv\")\n",
        "print(df)\n",
        "print()\n",
        "print(df.Product)"
      ],
      "metadata": {
        "id": "qj8o8n2DVF34",
        "colab": {
          "base_uri": "https://localhost:8080/"
        },
        "outputId": "177cfddf-acbe-457a-8384-01e7fc44082d"
      },
      "execution_count": null,
      "outputs": [
        {
          "output_type": "stream",
          "name": "stdout",
          "text": [
            "     Order ID Customer Name                 Product  Quantity\n",
            "0      166837         Veeru  34in Ultrawide Monitor         2\n",
            "1      166838         Tarun             Samsung m10         3\n",
            "2      166839         Kedar            20in Monitor         1\n",
            "3      166840       Lavanya               iPhone 11         3\n",
            "4      166841          Venu      Macbook Pro Laptop         2\n",
            "..        ...           ...                     ...       ...\n",
            "595    167403        Balaji      Macbook Pro Laptop         1\n",
            "596    167404       Lavanya         ThinkPad Laptop         1\n",
            "597    167405          Venu           Flatscreen TV         1\n",
            "598    167406        Siddhu             Samsung m20         2\n",
            "599    167407         Tarun      LG Washing Machine         1\n",
            "\n",
            "[600 rows x 4 columns]\n",
            "\n",
            "0      34in Ultrawide Monitor\n",
            "1                 Samsung m10\n",
            "2                20in Monitor\n",
            "3                   iPhone 11\n",
            "4          Macbook Pro Laptop\n",
            "                ...          \n",
            "595        Macbook Pro Laptop\n",
            "596           ThinkPad Laptop\n",
            "597             Flatscreen TV\n",
            "598               Samsung m20\n",
            "599        LG Washing Machine\n",
            "Name: Product, Length: 600, dtype: object\n"
          ]
        }
      ]
    },
    {
      "cell_type": "code",
      "source": [
        "#access single column\n",
        "import pandas as pd\n",
        "df=pd.read_csv(\"sales1.csv\")\n",
        "print(df)\n",
        "print()\n",
        "print(df[\"Product\"])"
      ],
      "metadata": {
        "id": "4ZhxRXIQVVxz",
        "colab": {
          "base_uri": "https://localhost:8080/"
        },
        "outputId": "ee5abd8f-26c9-40a9-c7cc-54790672206a"
      },
      "execution_count": null,
      "outputs": [
        {
          "output_type": "stream",
          "name": "stdout",
          "text": [
            "     Order ID Customer Name                 Product  Quantity\n",
            "0      166837         Veeru  34in Ultrawide Monitor         2\n",
            "1      166838         Tarun             Samsung m10         3\n",
            "2      166839         Kedar            20in Monitor         1\n",
            "3      166840       Lavanya               iPhone 11         3\n",
            "4      166841          Venu      Macbook Pro Laptop         2\n",
            "..        ...           ...                     ...       ...\n",
            "595    167403        Balaji      Macbook Pro Laptop         1\n",
            "596    167404       Lavanya         ThinkPad Laptop         1\n",
            "597    167405          Venu           Flatscreen TV         1\n",
            "598    167406        Siddhu             Samsung m20         2\n",
            "599    167407         Tarun      LG Washing Machine         1\n",
            "\n",
            "[600 rows x 4 columns]\n",
            "\n",
            "0      34in Ultrawide Monitor\n",
            "1                 Samsung m10\n",
            "2                20in Monitor\n",
            "3                   iPhone 11\n",
            "4          Macbook Pro Laptop\n",
            "                ...          \n",
            "595        Macbook Pro Laptop\n",
            "596           ThinkPad Laptop\n",
            "597             Flatscreen TV\n",
            "598               Samsung m20\n",
            "599        LG Washing Machine\n",
            "Name: Product, Length: 600, dtype: object\n"
          ]
        }
      ]
    },
    {
      "cell_type": "code",
      "source": [
        "#access multiple columns\n",
        "import pandas as pd\n",
        "df=pd.read_csv(\"sales1.csv\")\n",
        "print(df)\n",
        "print()\n",
        "print(df[[\"Product\",\"Customer Name\"]])"
      ],
      "metadata": {
        "id": "lHQoPhpAVZ4F",
        "colab": {
          "base_uri": "https://localhost:8080/"
        },
        "outputId": "f42b4809-2f81-4b93-ed10-ddafbfc2326e"
      },
      "execution_count": null,
      "outputs": [
        {
          "output_type": "stream",
          "name": "stdout",
          "text": [
            "     Order ID Customer Name                 Product  Quantity\n",
            "0      166837         Veeru  34in Ultrawide Monitor         2\n",
            "1      166838         Tarun             Samsung m10         3\n",
            "2      166839         Kedar            20in Monitor         1\n",
            "3      166840       Lavanya               iPhone 11         3\n",
            "4      166841          Venu      Macbook Pro Laptop         2\n",
            "..        ...           ...                     ...       ...\n",
            "595    167403        Balaji      Macbook Pro Laptop         1\n",
            "596    167404       Lavanya         ThinkPad Laptop         1\n",
            "597    167405          Venu           Flatscreen TV         1\n",
            "598    167406        Siddhu             Samsung m20         2\n",
            "599    167407         Tarun      LG Washing Machine         1\n",
            "\n",
            "[600 rows x 4 columns]\n",
            "\n",
            "                    Product Customer Name\n",
            "0    34in Ultrawide Monitor         Veeru\n",
            "1               Samsung m10         Tarun\n",
            "2              20in Monitor         Kedar\n",
            "3                 iPhone 11       Lavanya\n",
            "4        Macbook Pro Laptop          Venu\n",
            "..                      ...           ...\n",
            "595      Macbook Pro Laptop        Balaji\n",
            "596         ThinkPad Laptop       Lavanya\n",
            "597           Flatscreen TV          Venu\n",
            "598             Samsung m20        Siddhu\n",
            "599      LG Washing Machine         Tarun\n",
            "\n",
            "[600 rows x 2 columns]\n"
          ]
        }
      ]
    },
    {
      "cell_type": "code",
      "source": [
        "#rearrange the columns\n",
        "import pandas as pd\n",
        "df=pd.read_csv(\"sales1.csv\")\n",
        "print(df)\n",
        "print()\n",
        "print(df[[\"Product\",\"Order ID\",\"Customer Name\",\"Quantity\"]])\n"
      ],
      "metadata": {
        "id": "KQqAWaJIV6b8",
        "colab": {
          "base_uri": "https://localhost:8080/"
        },
        "outputId": "8f6ceea3-f4f5-45ba-fdae-1a58a7ee0b16"
      },
      "execution_count": null,
      "outputs": [
        {
          "output_type": "stream",
          "name": "stdout",
          "text": [
            "     Order ID Customer Name                 Product  Quantity\n",
            "0      166837         Veeru  34in Ultrawide Monitor         2\n",
            "1      166838         Tarun             Samsung m10         3\n",
            "2      166839         Kedar            20in Monitor         1\n",
            "3      166840       Lavanya               iPhone 11         3\n",
            "4      166841          Venu      Macbook Pro Laptop         2\n",
            "..        ...           ...                     ...       ...\n",
            "595    167403        Balaji      Macbook Pro Laptop         1\n",
            "596    167404       Lavanya         ThinkPad Laptop         1\n",
            "597    167405          Venu           Flatscreen TV         1\n",
            "598    167406        Siddhu             Samsung m20         2\n",
            "599    167407         Tarun      LG Washing Machine         1\n",
            "\n",
            "[600 rows x 4 columns]\n",
            "\n",
            "                    Product  Order ID Customer Name  Quantity\n",
            "0    34in Ultrawide Monitor    166837         Veeru         2\n",
            "1               Samsung m10    166838         Tarun         3\n",
            "2              20in Monitor    166839         Kedar         1\n",
            "3                 iPhone 11    166840       Lavanya         3\n",
            "4        Macbook Pro Laptop    166841          Venu         2\n",
            "..                      ...       ...           ...       ...\n",
            "595      Macbook Pro Laptop    167403        Balaji         1\n",
            "596         ThinkPad Laptop    167404       Lavanya         1\n",
            "597           Flatscreen TV    167405          Venu         1\n",
            "598             Samsung m20    167406        Siddhu         2\n",
            "599      LG Washing Machine    167407         Tarun         1\n",
            "\n",
            "[600 rows x 4 columns]\n"
          ]
        }
      ]
    }
  ]
}