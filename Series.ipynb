{
  "nbformat": 4,
  "nbformat_minor": 0,
  "metadata": {
    "colab": {
      "provenance": [],
      "authorship_tag": "ABX9TyP1yG9im+tCc2a6xqlqipg9",
      "include_colab_link": true
    },
    "kernelspec": {
      "name": "python3",
      "display_name": "Python 3"
    },
    "language_info": {
      "name": "python"
    }
  },
  "cells": [
    {
      "cell_type": "markdown",
      "metadata": {
        "id": "view-in-github",
        "colab_type": "text"
      },
      "source": [
        "<a href=\"https://colab.research.google.com/github/surekhavydyula4-cmd/Pandas/blob/main/Series.ipynb\" target=\"_parent\"><img src=\"https://colab.research.google.com/assets/colab-badge.svg\" alt=\"Open In Colab\"/></a>"
      ]
    },
    {
      "cell_type": "code",
      "execution_count": null,
      "metadata": {
        "colab": {
          "base_uri": "https://localhost:8080/"
        },
        "id": "It5d-ccy65Gh",
        "outputId": "fe766765-7e3c-40c2-a280-50b959761b01"
      },
      "outputs": [
        {
          "output_type": "stream",
          "name": "stdout",
          "text": [
            "Series([], dtype: object)\n",
            "\n",
            "<class 'pandas.core.series.Series'>\n"
          ]
        }
      ],
      "source": [
        "#Empty Series\n",
        "import pandas as pd\n",
        "s=pd.Series()\n",
        "print(s)\n",
        "print()\n",
        "print(type(s))"
      ]
    },
    {
      "cell_type": "code",
      "source": [
        "#Series from list\n",
        "import pandas as pd\n",
        "s=pd.Series([1,2,3])\n",
        "print(s)\n",
        "print()\n",
        "print(type(s))"
      ],
      "metadata": {
        "colab": {
          "base_uri": "https://localhost:8080/"
        },
        "id": "Me4Gu10G7d69",
        "outputId": "2196c39f-3327-4dd7-dfac-0fcbdb868554"
      },
      "execution_count": null,
      "outputs": [
        {
          "output_type": "stream",
          "name": "stdout",
          "text": [
            "0    1\n",
            "1    2\n",
            "2    3\n",
            "dtype: int64\n",
            "\n",
            "<class 'pandas.core.series.Series'>\n"
          ]
        }
      ]
    },
    {
      "cell_type": "code",
      "source": [
        "# Series from list aling with name\n",
        "import pandas as pd\n",
        "r=[1,2,3]\n",
        "s=pd.Series(r,name='RollNo')\n",
        "print(s)\n",
        "print()\n",
        "print(type(s))"
      ],
      "metadata": {
        "colab": {
          "base_uri": "https://localhost:8080/"
        },
        "id": "-NQxevpy7pAU",
        "outputId": "917d312d-997a-49b7-e92c-25b56a46c421"
      },
      "execution_count": null,
      "outputs": [
        {
          "output_type": "stream",
          "name": "stdout",
          "text": [
            "0    1\n",
            "1    2\n",
            "2    3\n",
            "Name: RollNo, dtype: int64\n",
            "\n",
            "<class 'pandas.core.series.Series'>\n"
          ]
        }
      ]
    },
    {
      "cell_type": "code",
      "source": [
        "#Series with use of range function\n",
        "import pandas as pd\n",
        "r=range(1,100)\n",
        "s=pd.Series(r)\n",
        "print(s)"
      ],
      "metadata": {
        "colab": {
          "base_uri": "https://localhost:8080/"
        },
        "id": "c0LLDcgh8ZRA",
        "outputId": "b43efe34-af17-4bfc-bc4d-cfae3f1c01da"
      },
      "execution_count": null,
      "outputs": [
        {
          "output_type": "stream",
          "name": "stdout",
          "text": [
            "0      1\n",
            "1      2\n",
            "2      3\n",
            "3      4\n",
            "4      5\n",
            "      ..\n",
            "94    95\n",
            "95    96\n",
            "96    97\n",
            "97    98\n",
            "98    99\n",
            "Length: 99, dtype: int64\n"
          ]
        }
      ]
    },
    {
      "cell_type": "code",
      "source": [
        "#Series from numpy array\n",
        "import pandas as pd\n",
        "import numpy as np\n",
        "a=[\"Suri\",\"Rekha\",\"Lucky\",\"Cherry\",\"Sai\"]\n",
        "ar=np.array(a)\n",
        "s=pd.Series(ar)\n",
        "print(s)\n",
        "print()\n",
        "print(type(s))"
      ],
      "metadata": {
        "colab": {
          "base_uri": "https://localhost:8080/"
        },
        "id": "qhVQEOpP9BkR",
        "outputId": "b4838daa-d9fe-45a1-f483-d9ef013f4686"
      },
      "execution_count": null,
      "outputs": [
        {
          "output_type": "stream",
          "name": "stdout",
          "text": [
            "0      Suri\n",
            "1     Rekha\n",
            "2     Lucky\n",
            "3    Cherry\n",
            "4       Sai\n",
            "dtype: object\n",
            "\n",
            "<class 'pandas.core.series.Series'>\n"
          ]
        }
      ]
    },
    {
      "cell_type": "code",
      "source": [
        "#Series\n",
        "import pandas as pd\n",
        "names=[\"Sai\",\"Sri\",\"Chaithu\",\"Anu\"]\n",
        "RNo=[10,20,30,40]\n",
        "s=pd.Series(names)\n",
        "print(s)\n"
      ],
      "metadata": {
        "colab": {
          "base_uri": "https://localhost:8080/"
        },
        "id": "7K3FLgGM9Uw2",
        "outputId": "9f8ece47-ab8a-4b1e-dfa1-ccabdff8803f"
      },
      "execution_count": null,
      "outputs": [
        {
          "output_type": "stream",
          "name": "stdout",
          "text": [
            "0        Sai\n",
            "1        Sri\n",
            "2    Chaithu\n",
            "3        Anu\n",
            "dtype: object\n"
          ]
        }
      ]
    },
    {
      "cell_type": "code",
      "source": [
        "# Series with name\n",
        "import pandas as pd\n",
        "names=[\"Sai\",\"Sri\",\"Chaithu\",\"Anu\"]\n",
        "s=pd.Series(names,name=\"Students\")\n",
        "print(s)"
      ],
      "metadata": {
        "colab": {
          "base_uri": "https://localhost:8080/"
        },
        "id": "UhaomaVu-j21",
        "outputId": "b96afdaf-4577-46f3-b7dd-e29e2b54dc23"
      },
      "execution_count": null,
      "outputs": [
        {
          "output_type": "stream",
          "name": "stdout",
          "text": [
            "0        Sai\n",
            "1        Sri\n",
            "2    Chaithu\n",
            "3        Anu\n",
            "Name: Students, dtype: object\n"
          ]
        }
      ]
    },
    {
      "cell_type": "code",
      "source": [
        "#Series with name and index\n",
        "import pandas as pd\n",
        "names=[\"Sai\",\"Sri\",\"Chaithu\",\"Anu\"]\n",
        "RNo=[10,20,30,40]\n",
        "s=pd.Series(names,name=\"Students\",index=RNo)\n",
        "print(s)"
      ],
      "metadata": {
        "colab": {
          "base_uri": "https://localhost:8080/"
        },
        "id": "C6PYGQvE-q75",
        "outputId": "a36b9b58-1514-4ffa-9300-ef3aeff00885"
      },
      "execution_count": null,
      "outputs": [
        {
          "output_type": "stream",
          "name": "stdout",
          "text": [
            "10        Sai\n",
            "20        Sri\n",
            "30    Chaithu\n",
            "40        Anu\n",
            "Name: Students, dtype: object\n"
          ]
        }
      ]
    },
    {
      "cell_type": "code",
      "source": [
        "#Accessing Series elements using indexing\n",
        "import pandas as pd\n",
        "names=[\"Ramya\",\"Sai\",\"Cherry\",\"Paddu\",\"Janu\"]\n",
        "s=pd.Series(names,name=\"Students\")\n",
        "print(s)\n",
        "print()\n",
        "print(s[0])\n",
        "print(s[1])\n",
        "print(s[2])\n",
        "print(s[3])"
      ],
      "metadata": {
        "colab": {
          "base_uri": "https://localhost:8080/"
        },
        "id": "zaGeMXmU_jy0",
        "outputId": "85beeb39-96ec-4097-be7c-6e06dc7ca1e0"
      },
      "execution_count": null,
      "outputs": [
        {
          "output_type": "stream",
          "name": "stdout",
          "text": [
            "0     Ramya\n",
            "1       Sai\n",
            "2    Cherry\n",
            "3     Paddu\n",
            "4      Janu\n",
            "Name: Students, dtype: object\n",
            "\n",
            "Ramya\n",
            "Sai\n",
            "Cherry\n",
            "Paddu\n"
          ]
        }
      ]
    },
    {
      "cell_type": "code",
      "source": [
        "#Accessing Series elements using indexing\n",
        "import pandas as pd\n",
        "names=[\"Ramya\",\"Sai\",\"Cherry\",\"Paddu\",\"Janu\"]\n",
        "i=[\"K\",\"S\",\"R\",\"L\",\"U\"]\n",
        "s=pd.Series(names,name=\"Students\",index=i)\n",
        "print(s)\n",
        "print()\n",
        "print(s['K'])\n",
        "print(s['U'])"
      ],
      "metadata": {
        "colab": {
          "base_uri": "https://localhost:8080/"
        },
        "id": "t959zVTIAdD8",
        "outputId": "df610b4d-105c-44f3-92e4-b8a4c8a5866c"
      },
      "execution_count": null,
      "outputs": [
        {
          "output_type": "stream",
          "name": "stdout",
          "text": [
            "K     Ramya\n",
            "S       Sai\n",
            "R    Cherry\n",
            "L     Paddu\n",
            "U      Janu\n",
            "Name: Students, dtype: object\n",
            "\n",
            "Ramya\n",
            "Janu\n"
          ]
        }
      ]
    }
  ]
}