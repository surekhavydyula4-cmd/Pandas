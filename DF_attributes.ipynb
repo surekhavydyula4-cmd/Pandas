{
  "nbformat": 4,
  "nbformat_minor": 0,
  "metadata": {
    "colab": {
      "provenance": [],
      "authorship_tag": "ABX9TyO7wq+cg++gfOaWhDLHCWnZ",
      "include_colab_link": true
    },
    "kernelspec": {
      "name": "python3",
      "display_name": "Python 3"
    },
    "language_info": {
      "name": "python"
    }
  },
  "cells": [
    {
      "cell_type": "markdown",
      "metadata": {
        "id": "view-in-github",
        "colab_type": "text"
      },
      "source": [
        "<a href=\"https://colab.research.google.com/github/surekhavydyula4-cmd/Pandas/blob/main/DF_attributes.ipynb\" target=\"_parent\"><img src=\"https://colab.research.google.com/assets/colab-badge.svg\" alt=\"Open In Colab\"/></a>"
      ]
    },
    {
      "cell_type": "code",
      "execution_count": null,
      "metadata": {
        "colab": {
          "base_uri": "https://localhost:8080/",
          "height": 73
        },
        "id": "fsAXIUuIOHKH",
        "outputId": "627cf035-2d22-4dd9-dbec-e582f65ab3d3"
      },
      "outputs": [
        {
          "output_type": "display_data",
          "data": {
            "text/plain": [
              "<IPython.core.display.HTML object>"
            ],
            "text/html": [
              "\n",
              "     <input type=\"file\" id=\"files-308825aa-0fc3-4565-a8a6-4359f653aebe\" name=\"files[]\" multiple disabled\n",
              "        style=\"border:none\" />\n",
              "     <output id=\"result-308825aa-0fc3-4565-a8a6-4359f653aebe\">\n",
              "      Upload widget is only available when the cell has been executed in the\n",
              "      current browser session. Please rerun this cell to enable.\n",
              "      </output>\n",
              "      <script>// Copyright 2017 Google LLC\n",
              "//\n",
              "// Licensed under the Apache License, Version 2.0 (the \"License\");\n",
              "// you may not use this file except in compliance with the License.\n",
              "// You may obtain a copy of the License at\n",
              "//\n",
              "//      http://www.apache.org/licenses/LICENSE-2.0\n",
              "//\n",
              "// Unless required by applicable law or agreed to in writing, software\n",
              "// distributed under the License is distributed on an \"AS IS\" BASIS,\n",
              "// WITHOUT WARRANTIES OR CONDITIONS OF ANY KIND, either express or implied.\n",
              "// See the License for the specific language governing permissions and\n",
              "// limitations under the License.\n",
              "\n",
              "/**\n",
              " * @fileoverview Helpers for google.colab Python module.\n",
              " */\n",
              "(function(scope) {\n",
              "function span(text, styleAttributes = {}) {\n",
              "  const element = document.createElement('span');\n",
              "  element.textContent = text;\n",
              "  for (const key of Object.keys(styleAttributes)) {\n",
              "    element.style[key] = styleAttributes[key];\n",
              "  }\n",
              "  return element;\n",
              "}\n",
              "\n",
              "// Max number of bytes which will be uploaded at a time.\n",
              "const MAX_PAYLOAD_SIZE = 100 * 1024;\n",
              "\n",
              "function _uploadFiles(inputId, outputId) {\n",
              "  const steps = uploadFilesStep(inputId, outputId);\n",
              "  const outputElement = document.getElementById(outputId);\n",
              "  // Cache steps on the outputElement to make it available for the next call\n",
              "  // to uploadFilesContinue from Python.\n",
              "  outputElement.steps = steps;\n",
              "\n",
              "  return _uploadFilesContinue(outputId);\n",
              "}\n",
              "\n",
              "// This is roughly an async generator (not supported in the browser yet),\n",
              "// where there are multiple asynchronous steps and the Python side is going\n",
              "// to poll for completion of each step.\n",
              "// This uses a Promise to block the python side on completion of each step,\n",
              "// then passes the result of the previous step as the input to the next step.\n",
              "function _uploadFilesContinue(outputId) {\n",
              "  const outputElement = document.getElementById(outputId);\n",
              "  const steps = outputElement.steps;\n",
              "\n",
              "  const next = steps.next(outputElement.lastPromiseValue);\n",
              "  return Promise.resolve(next.value.promise).then((value) => {\n",
              "    // Cache the last promise value to make it available to the next\n",
              "    // step of the generator.\n",
              "    outputElement.lastPromiseValue = value;\n",
              "    return next.value.response;\n",
              "  });\n",
              "}\n",
              "\n",
              "/**\n",
              " * Generator function which is called between each async step of the upload\n",
              " * process.\n",
              " * @param {string} inputId Element ID of the input file picker element.\n",
              " * @param {string} outputId Element ID of the output display.\n",
              " * @return {!Iterable<!Object>} Iterable of next steps.\n",
              " */\n",
              "function* uploadFilesStep(inputId, outputId) {\n",
              "  const inputElement = document.getElementById(inputId);\n",
              "  inputElement.disabled = false;\n",
              "\n",
              "  const outputElement = document.getElementById(outputId);\n",
              "  outputElement.innerHTML = '';\n",
              "\n",
              "  const pickedPromise = new Promise((resolve) => {\n",
              "    inputElement.addEventListener('change', (e) => {\n",
              "      resolve(e.target.files);\n",
              "    });\n",
              "  });\n",
              "\n",
              "  const cancel = document.createElement('button');\n",
              "  inputElement.parentElement.appendChild(cancel);\n",
              "  cancel.textContent = 'Cancel upload';\n",
              "  const cancelPromise = new Promise((resolve) => {\n",
              "    cancel.onclick = () => {\n",
              "      resolve(null);\n",
              "    };\n",
              "  });\n",
              "\n",
              "  // Wait for the user to pick the files.\n",
              "  const files = yield {\n",
              "    promise: Promise.race([pickedPromise, cancelPromise]),\n",
              "    response: {\n",
              "      action: 'starting',\n",
              "    }\n",
              "  };\n",
              "\n",
              "  cancel.remove();\n",
              "\n",
              "  // Disable the input element since further picks are not allowed.\n",
              "  inputElement.disabled = true;\n",
              "\n",
              "  if (!files) {\n",
              "    return {\n",
              "      response: {\n",
              "        action: 'complete',\n",
              "      }\n",
              "    };\n",
              "  }\n",
              "\n",
              "  for (const file of files) {\n",
              "    const li = document.createElement('li');\n",
              "    li.append(span(file.name, {fontWeight: 'bold'}));\n",
              "    li.append(span(\n",
              "        `(${file.type || 'n/a'}) - ${file.size} bytes, ` +\n",
              "        `last modified: ${\n",
              "            file.lastModifiedDate ? file.lastModifiedDate.toLocaleDateString() :\n",
              "                                    'n/a'} - `));\n",
              "    const percent = span('0% done');\n",
              "    li.appendChild(percent);\n",
              "\n",
              "    outputElement.appendChild(li);\n",
              "\n",
              "    const fileDataPromise = new Promise((resolve) => {\n",
              "      const reader = new FileReader();\n",
              "      reader.onload = (e) => {\n",
              "        resolve(e.target.result);\n",
              "      };\n",
              "      reader.readAsArrayBuffer(file);\n",
              "    });\n",
              "    // Wait for the data to be ready.\n",
              "    let fileData = yield {\n",
              "      promise: fileDataPromise,\n",
              "      response: {\n",
              "        action: 'continue',\n",
              "      }\n",
              "    };\n",
              "\n",
              "    // Use a chunked sending to avoid message size limits. See b/62115660.\n",
              "    let position = 0;\n",
              "    do {\n",
              "      const length = Math.min(fileData.byteLength - position, MAX_PAYLOAD_SIZE);\n",
              "      const chunk = new Uint8Array(fileData, position, length);\n",
              "      position += length;\n",
              "\n",
              "      const base64 = btoa(String.fromCharCode.apply(null, chunk));\n",
              "      yield {\n",
              "        response: {\n",
              "          action: 'append',\n",
              "          file: file.name,\n",
              "          data: base64,\n",
              "        },\n",
              "      };\n",
              "\n",
              "      let percentDone = fileData.byteLength === 0 ?\n",
              "          100 :\n",
              "          Math.round((position / fileData.byteLength) * 100);\n",
              "      percent.textContent = `${percentDone}% done`;\n",
              "\n",
              "    } while (position < fileData.byteLength);\n",
              "  }\n",
              "\n",
              "  // All done.\n",
              "  yield {\n",
              "    response: {\n",
              "      action: 'complete',\n",
              "    }\n",
              "  };\n",
              "}\n",
              "\n",
              "scope.google = scope.google || {};\n",
              "scope.google.colab = scope.google.colab || {};\n",
              "scope.google.colab._files = {\n",
              "  _uploadFiles,\n",
              "  _uploadFilesContinue,\n",
              "};\n",
              "})(self);\n",
              "</script> "
            ]
          },
          "metadata": {}
        },
        {
          "output_type": "stream",
          "name": "stdout",
          "text": [
            "Saving sales1.csv to sales1.csv\n"
          ]
        }
      ],
      "source": [
        "from google.colab import files\n",
        "uploaded=files.upload()\n"
      ]
    },
    {
      "cell_type": "code",
      "source": [
        "# DataFrame\n",
        "import pandas as pd\n",
        "df=pd.read_csv(\"sales1.csv\")\n",
        "print(df)"
      ],
      "metadata": {
        "colab": {
          "base_uri": "https://localhost:8080/"
        },
        "id": "ddCR32VaOr6w",
        "outputId": "49f60ba2-5394-4b20-98a2-db8c9f808c3a"
      },
      "execution_count": null,
      "outputs": [
        {
          "output_type": "stream",
          "name": "stdout",
          "text": [
            "     Order ID Customer Name                 Product  Quantity\n",
            "0      166837         Veeru  34in Ultrawide Monitor         2\n",
            "1      166838         Tarun             Samsung m10         3\n",
            "2      166839         Kedar            20in Monitor         1\n",
            "3      166840       Lavanya               iPhone 11         3\n",
            "4      166841          Venu      Macbook Pro Laptop         2\n",
            "..        ...           ...                     ...       ...\n",
            "595    167403        Balaji      Macbook Pro Laptop         1\n",
            "596    167404       Lavanya         ThinkPad Laptop         1\n",
            "597    167405          Venu           Flatscreen TV         1\n",
            "598    167406        Siddhu             Samsung m20         2\n",
            "599    167407         Tarun      LG Washing Machine         1\n",
            "\n",
            "[600 rows x 4 columns]\n"
          ]
        }
      ]
    },
    {
      "cell_type": "code",
      "source": [
        "#Length of DataFrame\n",
        "import pandas as pd\n",
        "df=pd.read_csv(\"sales1.csv\")\n",
        "print(len(df))\n"
      ],
      "metadata": {
        "colab": {
          "base_uri": "https://localhost:8080/"
        },
        "id": "Gbr9cTGFPAQA",
        "outputId": "44c0de96-0c50-4472-8cc0-a28c3eb2299e"
      },
      "execution_count": null,
      "outputs": [
        {
          "output_type": "stream",
          "name": "stdout",
          "text": [
            "600\n"
          ]
        }
      ]
    },
    {
      "cell_type": "code",
      "source": [
        "# dtypes\n",
        "import pandas as pd\n",
        "df=pd.read_csv(\"sales1.csv\")\n",
        "print(df.dtypes)"
      ],
      "metadata": {
        "colab": {
          "base_uri": "https://localhost:8080/"
        },
        "id": "KUbqPSndSL3B",
        "outputId": "d73ff85e-d250-4167-e570-cccee54b88fc"
      },
      "execution_count": null,
      "outputs": [
        {
          "output_type": "stream",
          "name": "stdout",
          "text": [
            "Order ID          int64\n",
            "Customer Name    object\n",
            "Product          object\n",
            "Quantity          int64\n",
            "dtype: object\n"
          ]
        }
      ]
    },
    {
      "cell_type": "code",
      "source": [
        "#size\n",
        "import pandas as pd\n",
        "df=pd.read_csv(\"sales1.csv\")\n",
        "print(df.size)"
      ],
      "metadata": {
        "colab": {
          "base_uri": "https://localhost:8080/"
        },
        "id": "WJae7C1hRbhO",
        "outputId": "baedab9a-7316-4e5d-c03f-8501fe7f2815"
      },
      "execution_count": null,
      "outputs": [
        {
          "output_type": "stream",
          "name": "stdout",
          "text": [
            "2400\n"
          ]
        }
      ]
    },
    {
      "cell_type": "code",
      "source": [
        "#shape\n",
        "import pandas as pd\n",
        "df=pd.read_csv(\"sales1.csv\")\n",
        "print(df.shape)\n"
      ],
      "metadata": {
        "colab": {
          "base_uri": "https://localhost:8080/"
        },
        "id": "4FDJoXYnRly7",
        "outputId": "069d826c-5b16-41f8-f772-79ce65f150d0"
      },
      "execution_count": null,
      "outputs": [
        {
          "output_type": "stream",
          "name": "stdout",
          "text": [
            "(600, 4)\n"
          ]
        }
      ]
    },
    {
      "cell_type": "code",
      "source": [
        "#shape for rows\n",
        "import pandas as pd\n",
        "df=pd.read_csv(\"sales1.csv\")\n",
        "print(df.shape[0])"
      ],
      "metadata": {
        "colab": {
          "base_uri": "https://localhost:8080/"
        },
        "id": "oYsNbuXlRouh",
        "outputId": "2d03433c-a256-4398-afa8-75d4b1ea127c"
      },
      "execution_count": null,
      "outputs": [
        {
          "output_type": "stream",
          "name": "stdout",
          "text": [
            "600\n"
          ]
        }
      ]
    },
    {
      "cell_type": "code",
      "source": [
        "#shape for columns\n",
        "import pandas as pd\n",
        "df=pd.read_csv(\"sales1.csv\")\n",
        "print(df.shape[1])"
      ],
      "metadata": {
        "colab": {
          "base_uri": "https://localhost:8080/"
        },
        "id": "hWDPkuFjRpZI",
        "outputId": "8232438f-a198-49e1-f703-e2fccb37f7fb"
      },
      "execution_count": null,
      "outputs": [
        {
          "output_type": "stream",
          "name": "stdout",
          "text": [
            "4\n"
          ]
        }
      ]
    },
    {
      "cell_type": "code",
      "source": [
        "#columns\n",
        "import pandas as pd\n",
        "df=pd.read_csv(\"sales1.csv\")\n",
        "print(df.columns)"
      ],
      "metadata": {
        "colab": {
          "base_uri": "https://localhost:8080/"
        },
        "id": "P7vFTeWuR8Gc",
        "outputId": "252f80ba-aa33-4037-850f-a360dce36119"
      },
      "execution_count": null,
      "outputs": [
        {
          "output_type": "stream",
          "name": "stdout",
          "text": [
            "Index(['Order ID', 'Customer Name', 'Product', 'Quantity'], dtype='object')\n"
          ]
        }
      ]
    },
    {
      "cell_type": "code",
      "source": [
        "#index\n",
        "import pandas as pd\n",
        "df=pd.read_csv(\"sales1.csv\")\n",
        "print(df.index)"
      ],
      "metadata": {
        "colab": {
          "base_uri": "https://localhost:8080/"
        },
        "id": "QFVAwAIiR-MR",
        "outputId": "262ae669-60a1-488c-c981-d18970e79a0b"
      },
      "execution_count": null,
      "outputs": [
        {
          "output_type": "stream",
          "name": "stdout",
          "text": [
            "RangeIndex(start=0, stop=600, step=1)\n"
          ]
        }
      ]
    },
    {
      "cell_type": "code",
      "source": [
        "#values\n",
        "import pandas as pd\n",
        "df=pd.read_csv(\"sales1.csv\")\n",
        "print(df.values)"
      ],
      "metadata": {
        "colab": {
          "base_uri": "https://localhost:8080/"
        },
        "id": "na6NK61ySBeJ",
        "outputId": "c5f73df4-c307-49b1-ae7a-418d4f06e548"
      },
      "execution_count": null,
      "outputs": [
        {
          "output_type": "stream",
          "name": "stdout",
          "text": [
            "[[166837 'Veeru' '34in Ultrawide Monitor' 2]\n",
            " [166838 'Tarun' 'Samsung m10' 3]\n",
            " [166839 'Kedar' '20in Monitor' 1]\n",
            " ...\n",
            " [167405 'Venu' 'Flatscreen TV' 1]\n",
            " [167406 'Siddhu' 'Samsung m20' 2]\n",
            " [167407 'Tarun' 'LG Washing Machine' 1]]\n"
          ]
        }
      ]
    },
    {
      "cell_type": "code",
      "source": [
        "#empty\n",
        "import pandas as pd\n",
        "df=pd.read_csv(\"sales1.csv\")\n",
        "print(df.empty)"
      ],
      "metadata": {
        "colab": {
          "base_uri": "https://localhost:8080/"
        },
        "id": "NmEA4j5SSEDH",
        "outputId": "6e64a966-700a-46a0-ba63-5920242cd804"
      },
      "execution_count": null,
      "outputs": [
        {
          "output_type": "stream",
          "name": "stdout",
          "text": [
            "False\n"
          ]
        }
      ]
    },
    {
      "cell_type": "code",
      "source": [
        "#T\n",
        "import pandas as pd\n",
        "df=pd.read_csv(\"sales1.csv\")\n",
        "print(df.T)"
      ],
      "metadata": {
        "colab": {
          "base_uri": "https://localhost:8080/"
        },
        "id": "5Wk4Qx8ISGbh",
        "outputId": "cdfe969c-4421-480a-c67f-d191227777ff"
      },
      "execution_count": null,
      "outputs": [
        {
          "output_type": "stream",
          "name": "stdout",
          "text": [
            "                                  0            1             2          3    \\\n",
            "Order ID                       166837       166838        166839     166840   \n",
            "Customer Name                   Veeru        Tarun         Kedar    Lavanya   \n",
            "Product        34in Ultrawide Monitor  Samsung m10  20in Monitor  iPhone 11   \n",
            "Quantity                            2            3             1          3   \n",
            "\n",
            "                              4                           5    \\\n",
            "Order ID                   166841                      166842   \n",
            "Customer Name                Venu                        Venu   \n",
            "Product        Macbook Pro Laptop  Bose SoundSport Headphones   \n",
            "Quantity                        2                           2   \n",
            "\n",
            "                                  6            7                       8    \\\n",
            "Order ID                       166843       166844                  166845   \n",
            "Customer Name                  Harsha       Harsha                  Siddhu   \n",
            "Product        27in 4K Gaming Monitor  Samsung m10  34in Ultrawide Monitor   \n",
            "Quantity                            2            1                       2   \n",
            "\n",
            "                     9    ...          590          591  \\\n",
            "Order ID          166846  ...       167398       167399   \n",
            "Customer Name     Siddhu  ...  Mallikarjun       Siddhu   \n",
            "Product        iPhone 11  ...    iPhone 7s  Samsung m10   \n",
            "Quantity               1  ...            1            1   \n",
            "\n",
            "                                  592          593          594  \\\n",
            "Order ID                       167400       167401       167402   \n",
            "Customer Name              Chaithanya  Mallikarjun        Kedar   \n",
            "Product        27in 4K Gaming Monitor    iPhone 11  Samsung m10   \n",
            "Quantity                            1            1            1   \n",
            "\n",
            "                              595              596            597  \\\n",
            "Order ID                   167403           167404         167405   \n",
            "Customer Name              Balaji          Lavanya           Venu   \n",
            "Product        Macbook Pro Laptop  ThinkPad Laptop  Flatscreen TV   \n",
            "Quantity                        1                1              1   \n",
            "\n",
            "                       598                 599  \n",
            "Order ID            167406              167407  \n",
            "Customer Name       Siddhu               Tarun  \n",
            "Product        Samsung m20  LG Washing Machine  \n",
            "Quantity                 2                   1  \n",
            "\n",
            "[4 rows x 600 columns]\n"
          ]
        }
      ]
    }
  ]
}