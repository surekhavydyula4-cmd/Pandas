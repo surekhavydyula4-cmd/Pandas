{
  "nbformat": 4,
  "nbformat_minor": 0,
  "metadata": {
    "colab": {
      "provenance": [],
      "authorship_tag": "ABX9TyPdDK8MN/ntDgews6JpuJPl",
      "include_colab_link": true
    },
    "kernelspec": {
      "name": "python3",
      "display_name": "Python 3"
    },
    "language_info": {
      "name": "python"
    }
  },
  "cells": [
    {
      "cell_type": "markdown",
      "metadata": {
        "id": "view-in-github",
        "colab_type": "text"
      },
      "source": [
        "<a href=\"https://colab.research.google.com/github/surekhavydyula4-cmd/Pandas/blob/main/renaming.ipynb\" target=\"_parent\"><img src=\"https://colab.research.google.com/assets/colab-badge.svg\" alt=\"Open In Colab\"/></a>"
      ]
    },
    {
      "cell_type": "code",
      "execution_count": null,
      "metadata": {
        "colab": {
          "base_uri": "https://localhost:8080/",
          "height": 73
        },
        "id": "SXU64cdNZUni",
        "outputId": "b0396dfe-1afa-45c0-88c0-6f9ef5c2a80e"
      },
      "outputs": [
        {
          "output_type": "display_data",
          "data": {
            "text/plain": [
              "<IPython.core.display.HTML object>"
            ],
            "text/html": [
              "\n",
              "     <input type=\"file\" id=\"files-cbe399fa-d9d1-4820-8b31-4d6368266a27\" name=\"files[]\" multiple disabled\n",
              "        style=\"border:none\" />\n",
              "     <output id=\"result-cbe399fa-d9d1-4820-8b31-4d6368266a27\">\n",
              "      Upload widget is only available when the cell has been executed in the\n",
              "      current browser session. Please rerun this cell to enable.\n",
              "      </output>\n",
              "      <script>// Copyright 2017 Google LLC\n",
              "//\n",
              "// Licensed under the Apache License, Version 2.0 (the \"License\");\n",
              "// you may not use this file except in compliance with the License.\n",
              "// You may obtain a copy of the License at\n",
              "//\n",
              "//      http://www.apache.org/licenses/LICENSE-2.0\n",
              "//\n",
              "// Unless required by applicable law or agreed to in writing, software\n",
              "// distributed under the License is distributed on an \"AS IS\" BASIS,\n",
              "// WITHOUT WARRANTIES OR CONDITIONS OF ANY KIND, either express or implied.\n",
              "// See the License for the specific language governing permissions and\n",
              "// limitations under the License.\n",
              "\n",
              "/**\n",
              " * @fileoverview Helpers for google.colab Python module.\n",
              " */\n",
              "(function(scope) {\n",
              "function span(text, styleAttributes = {}) {\n",
              "  const element = document.createElement('span');\n",
              "  element.textContent = text;\n",
              "  for (const key of Object.keys(styleAttributes)) {\n",
              "    element.style[key] = styleAttributes[key];\n",
              "  }\n",
              "  return element;\n",
              "}\n",
              "\n",
              "// Max number of bytes which will be uploaded at a time.\n",
              "const MAX_PAYLOAD_SIZE = 100 * 1024;\n",
              "\n",
              "function _uploadFiles(inputId, outputId) {\n",
              "  const steps = uploadFilesStep(inputId, outputId);\n",
              "  const outputElement = document.getElementById(outputId);\n",
              "  // Cache steps on the outputElement to make it available for the next call\n",
              "  // to uploadFilesContinue from Python.\n",
              "  outputElement.steps = steps;\n",
              "\n",
              "  return _uploadFilesContinue(outputId);\n",
              "}\n",
              "\n",
              "// This is roughly an async generator (not supported in the browser yet),\n",
              "// where there are multiple asynchronous steps and the Python side is going\n",
              "// to poll for completion of each step.\n",
              "// This uses a Promise to block the python side on completion of each step,\n",
              "// then passes the result of the previous step as the input to the next step.\n",
              "function _uploadFilesContinue(outputId) {\n",
              "  const outputElement = document.getElementById(outputId);\n",
              "  const steps = outputElement.steps;\n",
              "\n",
              "  const next = steps.next(outputElement.lastPromiseValue);\n",
              "  return Promise.resolve(next.value.promise).then((value) => {\n",
              "    // Cache the last promise value to make it available to the next\n",
              "    // step of the generator.\n",
              "    outputElement.lastPromiseValue = value;\n",
              "    return next.value.response;\n",
              "  });\n",
              "}\n",
              "\n",
              "/**\n",
              " * Generator function which is called between each async step of the upload\n",
              " * process.\n",
              " * @param {string} inputId Element ID of the input file picker element.\n",
              " * @param {string} outputId Element ID of the output display.\n",
              " * @return {!Iterable<!Object>} Iterable of next steps.\n",
              " */\n",
              "function* uploadFilesStep(inputId, outputId) {\n",
              "  const inputElement = document.getElementById(inputId);\n",
              "  inputElement.disabled = false;\n",
              "\n",
              "  const outputElement = document.getElementById(outputId);\n",
              "  outputElement.innerHTML = '';\n",
              "\n",
              "  const pickedPromise = new Promise((resolve) => {\n",
              "    inputElement.addEventListener('change', (e) => {\n",
              "      resolve(e.target.files);\n",
              "    });\n",
              "  });\n",
              "\n",
              "  const cancel = document.createElement('button');\n",
              "  inputElement.parentElement.appendChild(cancel);\n",
              "  cancel.textContent = 'Cancel upload';\n",
              "  const cancelPromise = new Promise((resolve) => {\n",
              "    cancel.onclick = () => {\n",
              "      resolve(null);\n",
              "    };\n",
              "  });\n",
              "\n",
              "  // Wait for the user to pick the files.\n",
              "  const files = yield {\n",
              "    promise: Promise.race([pickedPromise, cancelPromise]),\n",
              "    response: {\n",
              "      action: 'starting',\n",
              "    }\n",
              "  };\n",
              "\n",
              "  cancel.remove();\n",
              "\n",
              "  // Disable the input element since further picks are not allowed.\n",
              "  inputElement.disabled = true;\n",
              "\n",
              "  if (!files) {\n",
              "    return {\n",
              "      response: {\n",
              "        action: 'complete',\n",
              "      }\n",
              "    };\n",
              "  }\n",
              "\n",
              "  for (const file of files) {\n",
              "    const li = document.createElement('li');\n",
              "    li.append(span(file.name, {fontWeight: 'bold'}));\n",
              "    li.append(span(\n",
              "        `(${file.type || 'n/a'}) - ${file.size} bytes, ` +\n",
              "        `last modified: ${\n",
              "            file.lastModifiedDate ? file.lastModifiedDate.toLocaleDateString() :\n",
              "                                    'n/a'} - `));\n",
              "    const percent = span('0% done');\n",
              "    li.appendChild(percent);\n",
              "\n",
              "    outputElement.appendChild(li);\n",
              "\n",
              "    const fileDataPromise = new Promise((resolve) => {\n",
              "      const reader = new FileReader();\n",
              "      reader.onload = (e) => {\n",
              "        resolve(e.target.result);\n",
              "      };\n",
              "      reader.readAsArrayBuffer(file);\n",
              "    });\n",
              "    // Wait for the data to be ready.\n",
              "    let fileData = yield {\n",
              "      promise: fileDataPromise,\n",
              "      response: {\n",
              "        action: 'continue',\n",
              "      }\n",
              "    };\n",
              "\n",
              "    // Use a chunked sending to avoid message size limits. See b/62115660.\n",
              "    let position = 0;\n",
              "    do {\n",
              "      const length = Math.min(fileData.byteLength - position, MAX_PAYLOAD_SIZE);\n",
              "      const chunk = new Uint8Array(fileData, position, length);\n",
              "      position += length;\n",
              "\n",
              "      const base64 = btoa(String.fromCharCode.apply(null, chunk));\n",
              "      yield {\n",
              "        response: {\n",
              "          action: 'append',\n",
              "          file: file.name,\n",
              "          data: base64,\n",
              "        },\n",
              "      };\n",
              "\n",
              "      let percentDone = fileData.byteLength === 0 ?\n",
              "          100 :\n",
              "          Math.round((position / fileData.byteLength) * 100);\n",
              "      percent.textContent = `${percentDone}% done`;\n",
              "\n",
              "    } while (position < fileData.byteLength);\n",
              "  }\n",
              "\n",
              "  // All done.\n",
              "  yield {\n",
              "    response: {\n",
              "      action: 'complete',\n",
              "    }\n",
              "  };\n",
              "}\n",
              "\n",
              "scope.google = scope.google || {};\n",
              "scope.google.colab = scope.google.colab || {};\n",
              "scope.google.colab._files = {\n",
              "  _uploadFiles,\n",
              "  _uploadFilesContinue,\n",
              "};\n",
              "})(self);\n",
              "</script> "
            ]
          },
          "metadata": {}
        },
        {
          "output_type": "stream",
          "name": "stdout",
          "text": [
            "Saving sales2.csv to sales2.csv\n"
          ]
        }
      ],
      "source": [
        "from google.colab import files\n",
        "uploaded=files.upload()"
      ]
    },
    {
      "cell_type": "code",
      "source": [
        "#dataframe creation\n",
        "import pandas as pd\n",
        "df=pd.read_csv(\"sales2.csv\")\n",
        "print(df.head())\n",
        "print()\n",
        "print(df.columns)"
      ],
      "metadata": {
        "colab": {
          "base_uri": "https://localhost:8080/"
        },
        "id": "z0qGMiqMZuc2",
        "outputId": "3efee31f-8a2f-4c25-8d4a-b7d74a4039a8"
      },
      "execution_count": null,
      "outputs": [
        {
          "output_type": "stream",
          "name": "stdout",
          "text": [
            "   Order id Customer name  Customer id                Product name  \\\n",
            "0    192837        Partha            8        Apple iPad 10.2-inch   \n",
            "1    192838         Vinay           10               Flatscreen TV   \n",
            "2    192839       Lavanya           16                20in Monitor   \n",
            "3    192840         Mohan           24  Bose SoundSport Headphones   \n",
            "4    192841         Kedar            2                Google Phone   \n",
            "\n",
            "   Product cost  \n",
            "0         59000  \n",
            "1         65999  \n",
            "2         75000  \n",
            "3         55000  \n",
            "4         59000  \n",
            "\n",
            "Index(['Order id', 'Customer name', 'Customer id', 'Product name',\n",
            "       'Product cost'],\n",
            "      dtype='object')\n"
          ]
        }
      ]
    },
    {
      "cell_type": "code",
      "source": [
        "#rename single column by rename() method\n",
        "import pandas as pd\n",
        "df=pd.read_csv(\"sales2.csv\")\n",
        "d={\n",
        "    \"Order id\":\"Ord_id\"\n",
        "}\n",
        "df1=df.rename(columns=d)\n",
        "print(df.head())\n",
        "print()\n",
        "print(df1.head())\n"
      ],
      "metadata": {
        "id": "iSHCqEA5dynW",
        "colab": {
          "base_uri": "https://localhost:8080/"
        },
        "outputId": "e5a40c38-a0ed-4602-a0d5-609c003c24b8"
      },
      "execution_count": null,
      "outputs": [
        {
          "output_type": "stream",
          "name": "stdout",
          "text": [
            "   Order id Customer name  Customer id                Product name  \\\n",
            "0    192837        Partha            8        Apple iPad 10.2-inch   \n",
            "1    192838         Vinay           10               Flatscreen TV   \n",
            "2    192839       Lavanya           16                20in Monitor   \n",
            "3    192840         Mohan           24  Bose SoundSport Headphones   \n",
            "4    192841         Kedar            2                Google Phone   \n",
            "\n",
            "   Product cost  \n",
            "0         59000  \n",
            "1         65999  \n",
            "2         75000  \n",
            "3         55000  \n",
            "4         59000  \n",
            "\n",
            "   Ord_id Customer name  Customer id                Product name  Product cost\n",
            "0  192837        Partha            8        Apple iPad 10.2-inch         59000\n",
            "1  192838         Vinay           10               Flatscreen TV         65999\n",
            "2  192839       Lavanya           16                20in Monitor         75000\n",
            "3  192840         Mohan           24  Bose SoundSport Headphones         55000\n",
            "4  192841         Kedar            2                Google Phone         59000\n"
          ]
        }
      ]
    },
    {
      "cell_type": "code",
      "source": [
        "#rename multiple columns\n",
        "import pandas as pd\n",
        "df=pd.read_csv(\"sales2.csv\")\n",
        "d={\n",
        "    \"Customer name\":\"cust_name\",\n",
        "    \"Product name\" :\"prod_name\"\n",
        "\n",
        "}\n",
        "df1=df.rename(columns=d)\n",
        "print(df.head())\n",
        "print()\n",
        "print(df1.head())"
      ],
      "metadata": {
        "id": "tcx-IdScePgs",
        "colab": {
          "base_uri": "https://localhost:8080/"
        },
        "outputId": "0f6a0010-4bd1-4510-fb47-a82b1aebf4fc"
      },
      "execution_count": null,
      "outputs": [
        {
          "output_type": "stream",
          "name": "stdout",
          "text": [
            "   Order id Customer name  Customer id                Product name  \\\n",
            "0    192837        Partha            8        Apple iPad 10.2-inch   \n",
            "1    192838         Vinay           10               Flatscreen TV   \n",
            "2    192839       Lavanya           16                20in Monitor   \n",
            "3    192840         Mohan           24  Bose SoundSport Headphones   \n",
            "4    192841         Kedar            2                Google Phone   \n",
            "\n",
            "   Product cost  \n",
            "0         59000  \n",
            "1         65999  \n",
            "2         75000  \n",
            "3         55000  \n",
            "4         59000  \n",
            "\n",
            "   Order id cust_name  Customer id                   prod_name  Product cost\n",
            "0    192837    Partha            8        Apple iPad 10.2-inch         59000\n",
            "1    192838     Vinay           10               Flatscreen TV         65999\n",
            "2    192839   Lavanya           16                20in Monitor         75000\n",
            "3    192840     Mohan           24  Bose SoundSport Headphones         55000\n",
            "4    192841     Kedar            2                Google Phone         59000\n"
          ]
        }
      ]
    },
    {
      "cell_type": "code",
      "source": [
        "#wrong column name\n",
        "import pandas as pd\n",
        "df=pd.read_csv(\"sales2.csv\")\n",
        "d={\n",
        "    \"Order i_d\":\"Ord_id\"\n",
        "}\n",
        "df1=df.rename(columns=d)\n",
        "print(df.head())\n",
        "print()\n",
        "print(df1.head())"
      ],
      "metadata": {
        "id": "WBTOqGcqfc8J",
        "colab": {
          "base_uri": "https://localhost:8080/"
        },
        "outputId": "464cf66a-2c25-4bd7-a9b7-13c2c7159ff8"
      },
      "execution_count": null,
      "outputs": [
        {
          "output_type": "stream",
          "name": "stdout",
          "text": [
            "   Order id Customer name  Customer id                Product name  \\\n",
            "0    192837        Partha            8        Apple iPad 10.2-inch   \n",
            "1    192838         Vinay           10               Flatscreen TV   \n",
            "2    192839       Lavanya           16                20in Monitor   \n",
            "3    192840         Mohan           24  Bose SoundSport Headphones   \n",
            "4    192841         Kedar            2                Google Phone   \n",
            "\n",
            "   Product cost  \n",
            "0         59000  \n",
            "1         65999  \n",
            "2         75000  \n",
            "3         55000  \n",
            "4         59000  \n",
            "\n",
            "   Order id Customer name  Customer id                Product name  \\\n",
            "0    192837        Partha            8        Apple iPad 10.2-inch   \n",
            "1    192838         Vinay           10               Flatscreen TV   \n",
            "2    192839       Lavanya           16                20in Monitor   \n",
            "3    192840         Mohan           24  Bose SoundSport Headphones   \n",
            "4    192841         Kedar            2                Google Phone   \n",
            "\n",
            "   Product cost  \n",
            "0         59000  \n",
            "1         65999  \n",
            "2         75000  \n",
            "3         55000  \n",
            "4         59000  \n"
          ]
        }
      ]
    },
    {
      "cell_type": "code",
      "source": [
        "#rename multiple column names by columns attribute\n",
        "import pandas as pd\n",
        "df=pd.read_csv(\"sales2.csv\")\n",
        "df.columns=[\n",
        "            \"Ord_id\",\n",
        "            \"Cust_name\",\n",
        "            \"Cust_id\",\n",
        "            \"Prod_name\",\n",
        "            \"Prod_cost\"\n",
        "            ]\n",
        "print(df.head())"
      ],
      "metadata": {
        "id": "reLQxXrSe2As",
        "colab": {
          "base_uri": "https://localhost:8080/"
        },
        "outputId": "f23219b8-ec8b-4d98-8901-1bee9bcebeec"
      },
      "execution_count": null,
      "outputs": [
        {
          "output_type": "stream",
          "name": "stdout",
          "text": [
            "   Ord_id Cust_name  Cust_id                   Prod_name  Prod_cost\n",
            "0  192837    Partha        8        Apple iPad 10.2-inch      59000\n",
            "1  192838     Vinay       10               Flatscreen TV      65999\n",
            "2  192839   Lavanya       16                20in Monitor      75000\n",
            "3  192840     Mohan       24  Bose SoundSport Headphones      55000\n",
            "4  192841     Kedar        2                Google Phone      59000\n"
          ]
        }
      ]
    },
    {
      "cell_type": "code",
      "source": [
        "#Number of column names should be match\n",
        "import pandas as pd\n",
        "df=pd.read_csv(\"sales2.csv\")\n",
        "df.columns=[\n",
        "            \"Ord_id\",\n",
        "            \"Cust_name\",\n",
        "            \"Cust_id\",\n",
        "            \"Prod_name\",\n",
        "            \"Prod_cost\",\n",
        "            \"total\"\n",
        "            ]\n",
        "print(df.head())"
      ],
      "metadata": {
        "id": "WkIaAyPifIEQ",
        "colab": {
          "base_uri": "https://localhost:8080/",
          "height": 443
        },
        "outputId": "b2e4c397-529f-448f-9dc0-0e0cfc5645cf"
      },
      "execution_count": null,
      "outputs": [
        {
          "output_type": "error",
          "ename": "ValueError",
          "evalue": "Length mismatch: Expected axis has 5 elements, new values have 6 elements",
          "traceback": [
            "\u001b[0;31m---------------------------------------------------------------------------\u001b[0m",
            "\u001b[0;31mValueError\u001b[0m                                Traceback (most recent call last)",
            "\u001b[0;32m/tmp/ipython-input-3859277217.py\u001b[0m in \u001b[0;36m<cell line: 0>\u001b[0;34m()\u001b[0m\n\u001b[1;32m      2\u001b[0m \u001b[0;32mimport\u001b[0m \u001b[0mpandas\u001b[0m \u001b[0;32mas\u001b[0m \u001b[0mpd\u001b[0m\u001b[0;34m\u001b[0m\u001b[0;34m\u001b[0m\u001b[0m\n\u001b[1;32m      3\u001b[0m \u001b[0mdf\u001b[0m\u001b[0;34m=\u001b[0m\u001b[0mpd\u001b[0m\u001b[0;34m.\u001b[0m\u001b[0mread_csv\u001b[0m\u001b[0;34m(\u001b[0m\u001b[0;34m\"sales2.csv\"\u001b[0m\u001b[0;34m)\u001b[0m\u001b[0;34m\u001b[0m\u001b[0;34m\u001b[0m\u001b[0m\n\u001b[0;32m----> 4\u001b[0;31m df.columns=[\n\u001b[0m\u001b[1;32m      5\u001b[0m             \u001b[0;34m\"Ord_id\"\u001b[0m\u001b[0;34m,\u001b[0m\u001b[0;34m\u001b[0m\u001b[0;34m\u001b[0m\u001b[0m\n\u001b[1;32m      6\u001b[0m             \u001b[0;34m\"Cust_name\"\u001b[0m\u001b[0;34m,\u001b[0m\u001b[0;34m\u001b[0m\u001b[0;34m\u001b[0m\u001b[0m\n",
            "\u001b[0;32m/usr/local/lib/python3.12/dist-packages/pandas/core/generic.py\u001b[0m in \u001b[0;36m__setattr__\u001b[0;34m(self, name, value)\u001b[0m\n\u001b[1;32m   6311\u001b[0m         \u001b[0;32mtry\u001b[0m\u001b[0;34m:\u001b[0m\u001b[0;34m\u001b[0m\u001b[0;34m\u001b[0m\u001b[0m\n\u001b[1;32m   6312\u001b[0m             \u001b[0mobject\u001b[0m\u001b[0;34m.\u001b[0m\u001b[0m__getattribute__\u001b[0m\u001b[0;34m(\u001b[0m\u001b[0mself\u001b[0m\u001b[0;34m,\u001b[0m \u001b[0mname\u001b[0m\u001b[0;34m)\u001b[0m\u001b[0;34m\u001b[0m\u001b[0;34m\u001b[0m\u001b[0m\n\u001b[0;32m-> 6313\u001b[0;31m             \u001b[0;32mreturn\u001b[0m \u001b[0mobject\u001b[0m\u001b[0;34m.\u001b[0m\u001b[0m__setattr__\u001b[0m\u001b[0;34m(\u001b[0m\u001b[0mself\u001b[0m\u001b[0;34m,\u001b[0m \u001b[0mname\u001b[0m\u001b[0;34m,\u001b[0m \u001b[0mvalue\u001b[0m\u001b[0;34m)\u001b[0m\u001b[0;34m\u001b[0m\u001b[0;34m\u001b[0m\u001b[0m\n\u001b[0m\u001b[1;32m   6314\u001b[0m         \u001b[0;32mexcept\u001b[0m \u001b[0mAttributeError\u001b[0m\u001b[0;34m:\u001b[0m\u001b[0;34m\u001b[0m\u001b[0;34m\u001b[0m\u001b[0m\n\u001b[1;32m   6315\u001b[0m             \u001b[0;32mpass\u001b[0m\u001b[0;34m\u001b[0m\u001b[0;34m\u001b[0m\u001b[0m\n",
            "\u001b[0;32mproperties.pyx\u001b[0m in \u001b[0;36mpandas._libs.properties.AxisProperty.__set__\u001b[0;34m()\u001b[0m\n",
            "\u001b[0;32m/usr/local/lib/python3.12/dist-packages/pandas/core/generic.py\u001b[0m in \u001b[0;36m_set_axis\u001b[0;34m(self, axis, labels)\u001b[0m\n\u001b[1;32m    812\u001b[0m         \"\"\"\n\u001b[1;32m    813\u001b[0m         \u001b[0mlabels\u001b[0m \u001b[0;34m=\u001b[0m \u001b[0mensure_index\u001b[0m\u001b[0;34m(\u001b[0m\u001b[0mlabels\u001b[0m\u001b[0;34m)\u001b[0m\u001b[0;34m\u001b[0m\u001b[0;34m\u001b[0m\u001b[0m\n\u001b[0;32m--> 814\u001b[0;31m         \u001b[0mself\u001b[0m\u001b[0;34m.\u001b[0m\u001b[0m_mgr\u001b[0m\u001b[0;34m.\u001b[0m\u001b[0mset_axis\u001b[0m\u001b[0;34m(\u001b[0m\u001b[0maxis\u001b[0m\u001b[0;34m,\u001b[0m \u001b[0mlabels\u001b[0m\u001b[0;34m)\u001b[0m\u001b[0;34m\u001b[0m\u001b[0;34m\u001b[0m\u001b[0m\n\u001b[0m\u001b[1;32m    815\u001b[0m         \u001b[0mself\u001b[0m\u001b[0;34m.\u001b[0m\u001b[0m_clear_item_cache\u001b[0m\u001b[0;34m(\u001b[0m\u001b[0;34m)\u001b[0m\u001b[0;34m\u001b[0m\u001b[0;34m\u001b[0m\u001b[0m\n\u001b[1;32m    816\u001b[0m \u001b[0;34m\u001b[0m\u001b[0m\n",
            "\u001b[0;32m/usr/local/lib/python3.12/dist-packages/pandas/core/internals/managers.py\u001b[0m in \u001b[0;36mset_axis\u001b[0;34m(self, axis, new_labels)\u001b[0m\n\u001b[1;32m    236\u001b[0m     \u001b[0;32mdef\u001b[0m \u001b[0mset_axis\u001b[0m\u001b[0;34m(\u001b[0m\u001b[0mself\u001b[0m\u001b[0;34m,\u001b[0m \u001b[0maxis\u001b[0m\u001b[0;34m:\u001b[0m \u001b[0mAxisInt\u001b[0m\u001b[0;34m,\u001b[0m \u001b[0mnew_labels\u001b[0m\u001b[0;34m:\u001b[0m \u001b[0mIndex\u001b[0m\u001b[0;34m)\u001b[0m \u001b[0;34m->\u001b[0m \u001b[0;32mNone\u001b[0m\u001b[0;34m:\u001b[0m\u001b[0;34m\u001b[0m\u001b[0;34m\u001b[0m\u001b[0m\n\u001b[1;32m    237\u001b[0m         \u001b[0;31m# Caller is responsible for ensuring we have an Index object.\u001b[0m\u001b[0;34m\u001b[0m\u001b[0;34m\u001b[0m\u001b[0m\n\u001b[0;32m--> 238\u001b[0;31m         \u001b[0mself\u001b[0m\u001b[0;34m.\u001b[0m\u001b[0m_validate_set_axis\u001b[0m\u001b[0;34m(\u001b[0m\u001b[0maxis\u001b[0m\u001b[0;34m,\u001b[0m \u001b[0mnew_labels\u001b[0m\u001b[0;34m)\u001b[0m\u001b[0;34m\u001b[0m\u001b[0;34m\u001b[0m\u001b[0m\n\u001b[0m\u001b[1;32m    239\u001b[0m         \u001b[0mself\u001b[0m\u001b[0;34m.\u001b[0m\u001b[0maxes\u001b[0m\u001b[0;34m[\u001b[0m\u001b[0maxis\u001b[0m\u001b[0;34m]\u001b[0m \u001b[0;34m=\u001b[0m \u001b[0mnew_labels\u001b[0m\u001b[0;34m\u001b[0m\u001b[0;34m\u001b[0m\u001b[0m\n\u001b[1;32m    240\u001b[0m \u001b[0;34m\u001b[0m\u001b[0m\n",
            "\u001b[0;32m/usr/local/lib/python3.12/dist-packages/pandas/core/internals/base.py\u001b[0m in \u001b[0;36m_validate_set_axis\u001b[0;34m(self, axis, new_labels)\u001b[0m\n\u001b[1;32m     96\u001b[0m \u001b[0;34m\u001b[0m\u001b[0m\n\u001b[1;32m     97\u001b[0m         \u001b[0;32melif\u001b[0m \u001b[0mnew_len\u001b[0m \u001b[0;34m!=\u001b[0m \u001b[0mold_len\u001b[0m\u001b[0;34m:\u001b[0m\u001b[0;34m\u001b[0m\u001b[0;34m\u001b[0m\u001b[0m\n\u001b[0;32m---> 98\u001b[0;31m             raise ValueError(\n\u001b[0m\u001b[1;32m     99\u001b[0m                 \u001b[0;34mf\"Length mismatch: Expected axis has {old_len} elements, new \"\u001b[0m\u001b[0;34m\u001b[0m\u001b[0;34m\u001b[0m\u001b[0m\n\u001b[1;32m    100\u001b[0m                 \u001b[0;34mf\"values have {new_len} elements\"\u001b[0m\u001b[0;34m\u001b[0m\u001b[0;34m\u001b[0m\u001b[0m\n",
            "\u001b[0;31mValueError\u001b[0m: Length mismatch: Expected axis has 5 elements, new values have 6 elements"
          ]
        }
      ]
    },
    {
      "cell_type": "code",
      "source": [
        "#Creating dataframe\n",
        "import pandas as pd\n",
        "d={\n",
        "    \"Order Id\":[1,2,3,4],\n",
        "    \"Customer Name\":[\"Sai\",\"Suri\",\"Lalli\",\"Cherry\"],\n",
        "    \"Product\":[\"iPhone\",\"Samsung\",\"macbook\",\"Oppo\"]\n",
        "}\n",
        "df=pd.DataFrame(d)\n",
        "print(df)"
      ],
      "metadata": {
        "colab": {
          "base_uri": "https://localhost:8080/"
        },
        "id": "53A5yDKJAQ0O",
        "outputId": "408940fb-0761-4d72-ad8f-aac86dee96e2"
      },
      "execution_count": null,
      "outputs": [
        {
          "output_type": "stream",
          "name": "stdout",
          "text": [
            "   Order Id Customer Name  Product\n",
            "0         1           Sai   iPhone\n",
            "1         2          Suri  Samsung\n",
            "2         3         Lalli  macbook\n",
            "3         4        Cherry     Oppo\n"
          ]
        }
      ]
    },
    {
      "cell_type": "code",
      "source": [
        "#change index by rename() method\n",
        "import pandas as pd\n",
        "d={\n",
        "    \"Order Id\":[1,2,3,4],\n",
        "    \"Customer Name\":[\"Sai\",\"Suri\",\"Lalli\",\"Cherry\"],\n",
        "    \"Product\":[\"iPhone\",\"Samsung\",\"macbook\",\"Oppo\"]\n",
        "}\n",
        "i={0:10,1:20,2:30,3:40}\n",
        "df=pd.DataFrame(d)\n",
        "df1=df.rename(index=i)\n",
        "print(df)\n",
        "print()\n",
        "print(df1)\n"
      ],
      "metadata": {
        "colab": {
          "base_uri": "https://localhost:8080/"
        },
        "id": "UtDrYsp-A6oo",
        "outputId": "7eaf94c8-fe1b-423f-c7d4-c377ff35adc8"
      },
      "execution_count": null,
      "outputs": [
        {
          "output_type": "stream",
          "name": "stdout",
          "text": [
            "   Order Id Customer Name  Product\n",
            "0         1           Sai   iPhone\n",
            "1         2          Suri  Samsung\n",
            "2         3         Lalli  macbook\n",
            "3         4        Cherry     Oppo\n",
            "\n",
            "    Order Id Customer Name  Product\n",
            "10         1           Sai   iPhone\n",
            "20         2          Suri  Samsung\n",
            "30         3         Lalli  macbook\n",
            "40         4        Cherry     Oppo\n"
          ]
        }
      ]
    },
    {
      "cell_type": "code",
      "source": [
        "#change index by rename() method\n",
        "import pandas as pd\n",
        "d={\n",
        "    \"Order Id\":[1,2,3,4],\n",
        "    \"Customer Name\":[\"Sai\",\"Suri\",\"Lalli\",\"Cherry\"],\n",
        "    \"Product\":[\"iPhone\",\"Samsung\",\"macbook\",\"Oppo\"]\n",
        "}\n",
        "df=pd.DataFrame(d)\n",
        "print(df)\n",
        "df.index=[10,20,30,40]\n",
        "print(df)"
      ],
      "metadata": {
        "colab": {
          "base_uri": "https://localhost:8080/"
        },
        "id": "jrzyGRy1Bhzx",
        "outputId": "f3d0a2b6-abb0-423a-848e-e267965607a6"
      },
      "execution_count": null,
      "outputs": [
        {
          "output_type": "stream",
          "name": "stdout",
          "text": [
            "   Order Id Customer Name  Product\n",
            "0         1           Sai   iPhone\n",
            "1         2          Suri  Samsung\n",
            "2         3         Lalli  macbook\n",
            "3         4        Cherry     Oppo\n",
            "    Order Id Customer Name  Product\n",
            "10         1           Sai   iPhone\n",
            "20         2          Suri  Samsung\n",
            "30         3         Lalli  macbook\n",
            "40         4        Cherry     Oppo\n"
          ]
        }
      ]
    },
    {
      "cell_type": "code",
      "source": [
        "#change index by rename() method and range()function\n",
        "import pandas as pd\n",
        "d={\n",
        "    \"Order Id\":[1,2,3,4],\n",
        "    \"Customer Name\":[\"Sai\",\"Suri\",\"Lalli\",\"Cherry\"],\n",
        "    \"Product\":[\"iPhone\",\"Samsung\",\"macbook\",\"Oppo\"]\n",
        "}\n",
        "df=pd.DataFrame(d)\n",
        "print(df)\n",
        "\n",
        "df.index=range(10,50,10)\n",
        "print(df)"
      ],
      "metadata": {
        "colab": {
          "base_uri": "https://localhost:8080/"
        },
        "id": "HSY7zdS_Bl9K",
        "outputId": "e48baab4-411b-464c-c49e-d467a181068e"
      },
      "execution_count": null,
      "outputs": [
        {
          "output_type": "stream",
          "name": "stdout",
          "text": [
            "   Order Id Customer Name  Product\n",
            "0         1           Sai   iPhone\n",
            "1         2          Suri  Samsung\n",
            "2         3         Lalli  macbook\n",
            "3         4        Cherry     Oppo\n",
            "    Order Id Customer Name  Product\n",
            "10         1           Sai   iPhone\n",
            "20         2          Suri  Samsung\n",
            "30         3         Lalli  macbook\n",
            "40         4        Cherry     Oppo\n"
          ]
        }
      ]
    },
    {
      "cell_type": "code",
      "source": [
        "#convert column names from lower to upper vice versa\n",
        "import pandas as pd\n",
        "df=pd.read_csv(\"sales2.csv\")\n",
        "print(df.head())\n",
        "df.columns=df.columns.str.upper()\n",
        "print()\n",
        "print(df.head())\n",
        "print()\n",
        "df.columns=df.columns.str.lower()\n",
        "print(df.head())\n"
      ],
      "metadata": {
        "colab": {
          "base_uri": "https://localhost:8080/"
        },
        "id": "BDy7-uKpB6bT",
        "outputId": "f5682e12-b1ad-464e-922c-fe7f585e9e7e"
      },
      "execution_count": null,
      "outputs": [
        {
          "output_type": "stream",
          "name": "stdout",
          "text": [
            "   Order id Customer name  Customer id                Product name  \\\n",
            "0    192837        Partha            8        Apple iPad 10.2-inch   \n",
            "1    192838         Vinay           10               Flatscreen TV   \n",
            "2    192839       Lavanya           16                20in Monitor   \n",
            "3    192840         Mohan           24  Bose SoundSport Headphones   \n",
            "4    192841         Kedar            2                Google Phone   \n",
            "\n",
            "   Product cost  \n",
            "0         59000  \n",
            "1         65999  \n",
            "2         75000  \n",
            "3         55000  \n",
            "4         59000  \n",
            "\n",
            "   ORDER ID CUSTOMER NAME  CUSTOMER ID                PRODUCT NAME  \\\n",
            "0    192837        Partha            8        Apple iPad 10.2-inch   \n",
            "1    192838         Vinay           10               Flatscreen TV   \n",
            "2    192839       Lavanya           16                20in Monitor   \n",
            "3    192840         Mohan           24  Bose SoundSport Headphones   \n",
            "4    192841         Kedar            2                Google Phone   \n",
            "\n",
            "   PRODUCT COST  \n",
            "0         59000  \n",
            "1         65999  \n",
            "2         75000  \n",
            "3         55000  \n",
            "4         59000  \n",
            "\n",
            "   order id customer name  customer id                product name  \\\n",
            "0    192837        Partha            8        Apple iPad 10.2-inch   \n",
            "1    192838         Vinay           10               Flatscreen TV   \n",
            "2    192839       Lavanya           16                20in Monitor   \n",
            "3    192840         Mohan           24  Bose SoundSport Headphones   \n",
            "4    192841         Kedar            2                Google Phone   \n",
            "\n",
            "   product cost  \n",
            "0         59000  \n",
            "1         65999  \n",
            "2         75000  \n",
            "3         55000  \n",
            "4         59000  \n"
          ]
        }
      ]
    }
  ]
}