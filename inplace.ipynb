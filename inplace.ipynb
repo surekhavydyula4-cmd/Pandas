{
  "nbformat": 4,
  "nbformat_minor": 0,
  "metadata": {
    "colab": {
      "provenance": [],
      "authorship_tag": "ABX9TyMXNqJhuHdYG4PBEaVxSOUC",
      "include_colab_link": true
    },
    "kernelspec": {
      "name": "python3",
      "display_name": "Python 3"
    },
    "language_info": {
      "name": "python"
    }
  },
  "cells": [
    {
      "cell_type": "markdown",
      "metadata": {
        "id": "view-in-github",
        "colab_type": "text"
      },
      "source": [
        "<a href=\"https://colab.research.google.com/github/surekhavydyula4-cmd/Pandas/blob/main/inplace.ipynb\" target=\"_parent\"><img src=\"https://colab.research.google.com/assets/colab-badge.svg\" alt=\"Open In Colab\"/></a>"
      ]
    },
    {
      "cell_type": "code",
      "execution_count": null,
      "metadata": {
        "colab": {
          "base_uri": "https://localhost:8080/",
          "height": 73
        },
        "id": "4BRAMre1DHeD",
        "outputId": "e9e9616e-9f28-4b58-e8f8-47dbb5c08e58"
      },
      "outputs": [
        {
          "output_type": "display_data",
          "data": {
            "text/plain": [
              "<IPython.core.display.HTML object>"
            ],
            "text/html": [
              "\n",
              "     <input type=\"file\" id=\"files-7fa0e912-6d3b-4c96-a0bc-04b92b0555f5\" name=\"files[]\" multiple disabled\n",
              "        style=\"border:none\" />\n",
              "     <output id=\"result-7fa0e912-6d3b-4c96-a0bc-04b92b0555f5\">\n",
              "      Upload widget is only available when the cell has been executed in the\n",
              "      current browser session. Please rerun this cell to enable.\n",
              "      </output>\n",
              "      <script>// Copyright 2017 Google LLC\n",
              "//\n",
              "// Licensed under the Apache License, Version 2.0 (the \"License\");\n",
              "// you may not use this file except in compliance with the License.\n",
              "// You may obtain a copy of the License at\n",
              "//\n",
              "//      http://www.apache.org/licenses/LICENSE-2.0\n",
              "//\n",
              "// Unless required by applicable law or agreed to in writing, software\n",
              "// distributed under the License is distributed on an \"AS IS\" BASIS,\n",
              "// WITHOUT WARRANTIES OR CONDITIONS OF ANY KIND, either express or implied.\n",
              "// See the License for the specific language governing permissions and\n",
              "// limitations under the License.\n",
              "\n",
              "/**\n",
              " * @fileoverview Helpers for google.colab Python module.\n",
              " */\n",
              "(function(scope) {\n",
              "function span(text, styleAttributes = {}) {\n",
              "  const element = document.createElement('span');\n",
              "  element.textContent = text;\n",
              "  for (const key of Object.keys(styleAttributes)) {\n",
              "    element.style[key] = styleAttributes[key];\n",
              "  }\n",
              "  return element;\n",
              "}\n",
              "\n",
              "// Max number of bytes which will be uploaded at a time.\n",
              "const MAX_PAYLOAD_SIZE = 100 * 1024;\n",
              "\n",
              "function _uploadFiles(inputId, outputId) {\n",
              "  const steps = uploadFilesStep(inputId, outputId);\n",
              "  const outputElement = document.getElementById(outputId);\n",
              "  // Cache steps on the outputElement to make it available for the next call\n",
              "  // to uploadFilesContinue from Python.\n",
              "  outputElement.steps = steps;\n",
              "\n",
              "  return _uploadFilesContinue(outputId);\n",
              "}\n",
              "\n",
              "// This is roughly an async generator (not supported in the browser yet),\n",
              "// where there are multiple asynchronous steps and the Python side is going\n",
              "// to poll for completion of each step.\n",
              "// This uses a Promise to block the python side on completion of each step,\n",
              "// then passes the result of the previous step as the input to the next step.\n",
              "function _uploadFilesContinue(outputId) {\n",
              "  const outputElement = document.getElementById(outputId);\n",
              "  const steps = outputElement.steps;\n",
              "\n",
              "  const next = steps.next(outputElement.lastPromiseValue);\n",
              "  return Promise.resolve(next.value.promise).then((value) => {\n",
              "    // Cache the last promise value to make it available to the next\n",
              "    // step of the generator.\n",
              "    outputElement.lastPromiseValue = value;\n",
              "    return next.value.response;\n",
              "  });\n",
              "}\n",
              "\n",
              "/**\n",
              " * Generator function which is called between each async step of the upload\n",
              " * process.\n",
              " * @param {string} inputId Element ID of the input file picker element.\n",
              " * @param {string} outputId Element ID of the output display.\n",
              " * @return {!Iterable<!Object>} Iterable of next steps.\n",
              " */\n",
              "function* uploadFilesStep(inputId, outputId) {\n",
              "  const inputElement = document.getElementById(inputId);\n",
              "  inputElement.disabled = false;\n",
              "\n",
              "  const outputElement = document.getElementById(outputId);\n",
              "  outputElement.innerHTML = '';\n",
              "\n",
              "  const pickedPromise = new Promise((resolve) => {\n",
              "    inputElement.addEventListener('change', (e) => {\n",
              "      resolve(e.target.files);\n",
              "    });\n",
              "  });\n",
              "\n",
              "  const cancel = document.createElement('button');\n",
              "  inputElement.parentElement.appendChild(cancel);\n",
              "  cancel.textContent = 'Cancel upload';\n",
              "  const cancelPromise = new Promise((resolve) => {\n",
              "    cancel.onclick = () => {\n",
              "      resolve(null);\n",
              "    };\n",
              "  });\n",
              "\n",
              "  // Wait for the user to pick the files.\n",
              "  const files = yield {\n",
              "    promise: Promise.race([pickedPromise, cancelPromise]),\n",
              "    response: {\n",
              "      action: 'starting',\n",
              "    }\n",
              "  };\n",
              "\n",
              "  cancel.remove();\n",
              "\n",
              "  // Disable the input element since further picks are not allowed.\n",
              "  inputElement.disabled = true;\n",
              "\n",
              "  if (!files) {\n",
              "    return {\n",
              "      response: {\n",
              "        action: 'complete',\n",
              "      }\n",
              "    };\n",
              "  }\n",
              "\n",
              "  for (const file of files) {\n",
              "    const li = document.createElement('li');\n",
              "    li.append(span(file.name, {fontWeight: 'bold'}));\n",
              "    li.append(span(\n",
              "        `(${file.type || 'n/a'}) - ${file.size} bytes, ` +\n",
              "        `last modified: ${\n",
              "            file.lastModifiedDate ? file.lastModifiedDate.toLocaleDateString() :\n",
              "                                    'n/a'} - `));\n",
              "    const percent = span('0% done');\n",
              "    li.appendChild(percent);\n",
              "\n",
              "    outputElement.appendChild(li);\n",
              "\n",
              "    const fileDataPromise = new Promise((resolve) => {\n",
              "      const reader = new FileReader();\n",
              "      reader.onload = (e) => {\n",
              "        resolve(e.target.result);\n",
              "      };\n",
              "      reader.readAsArrayBuffer(file);\n",
              "    });\n",
              "    // Wait for the data to be ready.\n",
              "    let fileData = yield {\n",
              "      promise: fileDataPromise,\n",
              "      response: {\n",
              "        action: 'continue',\n",
              "      }\n",
              "    };\n",
              "\n",
              "    // Use a chunked sending to avoid message size limits. See b/62115660.\n",
              "    let position = 0;\n",
              "    do {\n",
              "      const length = Math.min(fileData.byteLength - position, MAX_PAYLOAD_SIZE);\n",
              "      const chunk = new Uint8Array(fileData, position, length);\n",
              "      position += length;\n",
              "\n",
              "      const base64 = btoa(String.fromCharCode.apply(null, chunk));\n",
              "      yield {\n",
              "        response: {\n",
              "          action: 'append',\n",
              "          file: file.name,\n",
              "          data: base64,\n",
              "        },\n",
              "      };\n",
              "\n",
              "      let percentDone = fileData.byteLength === 0 ?\n",
              "          100 :\n",
              "          Math.round((position / fileData.byteLength) * 100);\n",
              "      percent.textContent = `${percentDone}% done`;\n",
              "\n",
              "    } while (position < fileData.byteLength);\n",
              "  }\n",
              "\n",
              "  // All done.\n",
              "  yield {\n",
              "    response: {\n",
              "      action: 'complete',\n",
              "    }\n",
              "  };\n",
              "}\n",
              "\n",
              "scope.google = scope.google || {};\n",
              "scope.google.colab = scope.google.colab || {};\n",
              "scope.google.colab._files = {\n",
              "  _uploadFiles,\n",
              "  _uploadFilesContinue,\n",
              "};\n",
              "})(self);\n",
              "</script> "
            ]
          },
          "metadata": {}
        },
        {
          "output_type": "stream",
          "name": "stdout",
          "text": [
            "Saving sales2.csv to sales2.csv\n"
          ]
        }
      ],
      "source": [
        "from google.colab import files\n",
        "uploaded=files.upload()"
      ]
    },
    {
      "cell_type": "code",
      "source": [
        "#Dataframe Creation\n",
        "import pandas as pd\n",
        "df=pd.read_csv(\"sales2.csv\")\n",
        "print(df.head())\n"
      ],
      "metadata": {
        "colab": {
          "base_uri": "https://localhost:8080/"
        },
        "id": "9uf7fnhyDhBi",
        "outputId": "27612e3a-4cb7-4055-c723-e122b55a9876"
      },
      "execution_count": null,
      "outputs": [
        {
          "output_type": "stream",
          "name": "stdout",
          "text": [
            "   Order id Customer name  Customer id                Product name  \\\n",
            "0    192837        Partha            8        Apple iPad 10.2-inch   \n",
            "1    192838         Vinay           10               Flatscreen TV   \n",
            "2    192839       Lavanya           16                20in Monitor   \n",
            "3    192840         Mohan           24  Bose SoundSport Headphones   \n",
            "4    192841         Kedar            2                Google Phone   \n",
            "\n",
            "   Product cost  \n",
            "0         59000  \n",
            "1         65999  \n",
            "2         75000  \n",
            "3         55000  \n",
            "4         59000  \n"
          ]
        }
      ]
    },
    {
      "cell_type": "code",
      "source": [
        "#changing existing dataframe\n",
        "import pandas as pd\n",
        "df=pd.read_csv(\"sales2.csv\")\n",
        "d={\n",
        "    \"Order id\":\"Ord ID\",\n",
        "    \"Customer name\":\"Cust Name\",\n",
        "    \"Customer id\":\"Cust ID\",\n",
        "    \"Product name\":\"Prod Name\",\n",
        "    \"Product cost\":\"Prod Cost\"\n",
        "}\n",
        "print(df.head())\n",
        "print()\n",
        "df.rename(columns=d,inplace=True)\n",
        "print(df.head())"
      ],
      "metadata": {
        "colab": {
          "base_uri": "https://localhost:8080/"
        },
        "id": "03yPyn5gDtij",
        "outputId": "4fb2b3d2-4171-49da-9b02-0f27a904db2c"
      },
      "execution_count": null,
      "outputs": [
        {
          "output_type": "stream",
          "name": "stdout",
          "text": [
            "   Order id Customer name  Customer id                Product name  \\\n",
            "0    192837        Partha            8        Apple iPad 10.2-inch   \n",
            "1    192838         Vinay           10               Flatscreen TV   \n",
            "2    192839       Lavanya           16                20in Monitor   \n",
            "3    192840         Mohan           24  Bose SoundSport Headphones   \n",
            "4    192841         Kedar            2                Google Phone   \n",
            "\n",
            "   Product cost  \n",
            "0         59000  \n",
            "1         65999  \n",
            "2         75000  \n",
            "3         55000  \n",
            "4         59000  \n",
            "\n",
            "   Ord ID Cust Name  Cust ID                   Prod Name  Prod Cost\n",
            "0  192837    Partha        8        Apple iPad 10.2-inch      59000\n",
            "1  192838     Vinay       10               Flatscreen TV      65999\n",
            "2  192839   Lavanya       16                20in Monitor      75000\n",
            "3  192840     Mohan       24  Bose SoundSport Headphones      55000\n",
            "4  192841     Kedar        2                Google Phone      59000\n"
          ]
        }
      ]
    },
    {
      "cell_type": "code",
      "source": [
        "#unchanging the existing dataframe\n",
        "import pandas as pd\n",
        "df=pd.read_csv(\"sales2.csv\")\n",
        "d={\n",
        "    \"Order id\":\"Ord ID\",\n",
        "    \"Customer name\":\"Cust Name\",\n",
        "    \"Customer id\":\"Cust ID\",\n",
        "    \"Product name\":\"Prod Name\",\n",
        "    \"Product cost\":\"Prod Cost\"\n",
        "}\n",
        "print(df.head())\n",
        "print()\n",
        "df.rename(columns=d,inplace=False)\n",
        "print(df.head())"
      ],
      "metadata": {
        "colab": {
          "base_uri": "https://localhost:8080/"
        },
        "id": "pwxa2RpiEru2",
        "outputId": "17fc9a4c-9ea0-4218-9b90-cec232573ee8"
      },
      "execution_count": null,
      "outputs": [
        {
          "output_type": "stream",
          "name": "stdout",
          "text": [
            "   Order id Customer name  Customer id                Product name  \\\n",
            "0    192837        Partha            8        Apple iPad 10.2-inch   \n",
            "1    192838         Vinay           10               Flatscreen TV   \n",
            "2    192839       Lavanya           16                20in Monitor   \n",
            "3    192840         Mohan           24  Bose SoundSport Headphones   \n",
            "4    192841         Kedar            2                Google Phone   \n",
            "\n",
            "   Product cost  \n",
            "0         59000  \n",
            "1         65999  \n",
            "2         75000  \n",
            "3         55000  \n",
            "4         59000  \n",
            "\n",
            "   Order id Customer name  Customer id                Product name  \\\n",
            "0    192837        Partha            8        Apple iPad 10.2-inch   \n",
            "1    192838         Vinay           10               Flatscreen TV   \n",
            "2    192839       Lavanya           16                20in Monitor   \n",
            "3    192840         Mohan           24  Bose SoundSport Headphones   \n",
            "4    192841         Kedar            2                Google Phone   \n",
            "\n",
            "   Product cost  \n",
            "0         59000  \n",
            "1         65999  \n",
            "2         75000  \n",
            "3         55000  \n",
            "4         59000  \n"
          ]
        }
      ]
    }
  ]
}