{
  "nbformat": 4,
  "nbformat_minor": 0,
  "metadata": {
    "colab": {
      "provenance": [],
      "authorship_tag": "ABX9TyPaB1Hy595lSVxdF7oWazqv",
      "include_colab_link": true
    },
    "kernelspec": {
      "name": "python3",
      "display_name": "Python 3"
    },
    "language_info": {
      "name": "python"
    }
  },
  "cells": [
    {
      "cell_type": "markdown",
      "metadata": {
        "id": "view-in-github",
        "colab_type": "text"
      },
      "source": [
        "<a href=\"https://colab.research.google.com/github/surekhavydyula4-cmd/Pandas/blob/main/S_attributes.ipynb\" target=\"_parent\"><img src=\"https://colab.research.google.com/assets/colab-badge.svg\" alt=\"Open In Colab\"/></a>"
      ]
    },
    {
      "cell_type": "code",
      "execution_count": null,
      "metadata": {
        "colab": {
          "base_uri": "https://localhost:8080/"
        },
        "id": "N4weY0gnA-2-",
        "outputId": "8c8469ec-b144-48f7-b830-135cd23cc9cc"
      },
      "outputs": [
        {
          "output_type": "stream",
          "name": "stdout",
          "text": [
            "Redmi       20000\n",
            "Oppo        20000\n",
            "iPhone     100000\n",
            "Samsung     70000\n",
            "Name: Mobiles, dtype: int64\n"
          ]
        }
      ],
      "source": [
        "#Series Creation\n",
        "import pandas as pd\n",
        "p=[20000,20000,100000,70000]\n",
        "m=[\"Redmi\",\"Oppo\",\"iPhone\",\"Samsung\"]\n",
        "s=pd.Series(p,index=m,name=\"Mobiles\")\n",
        "print(s)"
      ]
    },
    {
      "cell_type": "code",
      "source": [
        "#dtypes\n",
        "import pandas as pd\n",
        "p=[20000,20000,100000,70000]\n",
        "s=pd.Series(p,name=\"Price\")\n",
        "print(s)\n",
        "print()\n",
        "print(s.dtypes)"
      ],
      "metadata": {
        "colab": {
          "base_uri": "https://localhost:8080/"
        },
        "id": "rELtsOVGCEq1",
        "outputId": "e1e3f6ed-8741-4567-d61a-389785465873"
      },
      "execution_count": null,
      "outputs": [
        {
          "output_type": "stream",
          "name": "stdout",
          "text": [
            "0     20000\n",
            "1     20000\n",
            "2    100000\n",
            "3     70000\n",
            "Name: Price, dtype: int64\n",
            "\n",
            "int64\n"
          ]
        }
      ]
    },
    {
      "cell_type": "code",
      "source": [
        "#dtypes\n",
        "import pandas as pd\n",
        "m=[\"Redmi\",\"Oppo\",\"iPhone\",\"Samsung\"]\n",
        "s=pd.Series(m,name=\"Mobiles\")\n",
        "print(s)\n",
        "print()\n",
        "print(s.dtypes)"
      ],
      "metadata": {
        "colab": {
          "base_uri": "https://localhost:8080/"
        },
        "id": "bVQInUPyDSKc",
        "outputId": "63a384b3-f8d8-4884-c88b-1c53113a4ddb"
      },
      "execution_count": null,
      "outputs": [
        {
          "output_type": "stream",
          "name": "stdout",
          "text": [
            "0      Redmi\n",
            "1       Oppo\n",
            "2     iPhone\n",
            "3    Samsung\n",
            "Name: Mobiles, dtype: object\n",
            "\n",
            "object\n"
          ]
        }
      ]
    },
    {
      "cell_type": "code",
      "source": [
        "#dtypes\n",
        "import pandas as pd\n",
        "p=[20000.0,20000.0,100000.02,70000.50]\n",
        "s=pd.Series(p,index=m,name=\"Salaries\")\n",
        "print(s)\n",
        "print()\n",
        "print(s.dtypes)"
      ],
      "metadata": {
        "colab": {
          "base_uri": "https://localhost:8080/"
        },
        "id": "p49pPrR9DlZI",
        "outputId": "67cae35f-7f2e-4d35-cb98-e1d31e85ffe6"
      },
      "execution_count": null,
      "outputs": [
        {
          "output_type": "stream",
          "name": "stdout",
          "text": [
            "Redmi       20000.00\n",
            "Oppo        20000.00\n",
            "iPhone     100000.02\n",
            "Samsung     70000.50\n",
            "Name: Salaries, dtype: float64\n",
            "\n",
            "float64\n"
          ]
        }
      ]
    },
    {
      "cell_type": "code",
      "source": [
        "#size\n",
        "import pandas as pd\n",
        "m=[\"Redmi\",\"Oppo\",\"iPhone\",\"Samsung\"]\n",
        "s=pd.Series(m)\n",
        "print(s)\n",
        "print()\n",
        "print(s.size)"
      ],
      "metadata": {
        "colab": {
          "base_uri": "https://localhost:8080/"
        },
        "id": "joXLAfwpCQjd",
        "outputId": "426eb0e0-606f-492c-e146-6c540217e01f"
      },
      "execution_count": null,
      "outputs": [
        {
          "output_type": "stream",
          "name": "stdout",
          "text": [
            "0      Redmi\n",
            "1       Oppo\n",
            "2     iPhone\n",
            "3    Samsung\n",
            "dtype: object\n",
            "\n",
            "4\n"
          ]
        }
      ]
    },
    {
      "cell_type": "code",
      "source": [
        "#index\n",
        "import pandas as pd\n",
        "n=[\"Sai\",\"Anu\",\"Suri\",\"Chaithu\",\"Pavan\"]\n",
        "s=pd.Series(n,name=\"Students\")\n",
        "print(s)\n",
        "print()\n",
        "print(s.index)"
      ],
      "metadata": {
        "colab": {
          "base_uri": "https://localhost:8080/"
        },
        "id": "hX0eT3FqC4h3",
        "outputId": "ea4009b1-ec89-40f5-9d96-b80459a17c02"
      },
      "execution_count": null,
      "outputs": [
        {
          "output_type": "stream",
          "name": "stdout",
          "text": [
            "0        Sai\n",
            "1        Anu\n",
            "2       Suri\n",
            "3    Chaithu\n",
            "4      Pavan\n",
            "Name: Students, dtype: object\n",
            "\n",
            "RangeIndex(start=0, stop=5, step=1)\n"
          ]
        }
      ]
    },
    {
      "cell_type": "code",
      "source": [
        "#index\n",
        "import pandas as pd\n",
        "p=[20000,20000,100000,70000]\n",
        "m=[\"Redmi\",\"Oppo\",\"iPhone\",\"Samsung\"]\n",
        "s=pd.Series(p,index=m,name=\"Mobiles\")\n",
        "print(s)\n",
        "print()\n",
        "print(s.index)"
      ],
      "metadata": {
        "colab": {
          "base_uri": "https://localhost:8080/"
        },
        "id": "Nl8HH5GbCgqJ",
        "outputId": "9425dd8e-7f73-4c97-d5a4-2e88d70a9727"
      },
      "execution_count": null,
      "outputs": [
        {
          "output_type": "stream",
          "name": "stdout",
          "text": [
            "Redmi       20000\n",
            "Oppo        20000\n",
            "iPhone     100000\n",
            "Samsung     70000\n",
            "Name: Mobiles, dtype: int64\n",
            "\n",
            "Index(['Redmi', 'Oppo', 'iPhone', 'Samsung'], dtype='object')\n"
          ]
        }
      ]
    },
    {
      "cell_type": "code",
      "source": [
        "#values\n",
        "import pandas as pd\n",
        "m=[\"Redmi\",\"Oppo\",\"iPhone\",\"Samsung\"]\n",
        "s=pd.Series(m,name=\"Mobiles\")\n",
        "print(s)\n",
        "print()\n",
        "print(s.values)"
      ],
      "metadata": {
        "colab": {
          "base_uri": "https://localhost:8080/"
        },
        "id": "twLNkV_QCmNE",
        "outputId": "44342f28-0f24-466a-cd6a-ba54e3ed22f8"
      },
      "execution_count": null,
      "outputs": [
        {
          "output_type": "stream",
          "name": "stdout",
          "text": [
            "0      Redmi\n",
            "1       Oppo\n",
            "2     iPhone\n",
            "3    Samsung\n",
            "Name: Mobiles, dtype: object\n",
            "\n",
            "['Redmi' 'Oppo' 'iPhone' 'Samsung']\n"
          ]
        }
      ]
    }
  ]
}